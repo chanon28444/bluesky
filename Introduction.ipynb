{
 "cells": [
  {
   "cell_type": "markdown",
   "metadata": {
    "colab_type": "text",
    "id": "svNPENVSHGGP"
   },
   "source": [
    "# 22 August 2020\n",
    "\n",
    "In Python, we needn't to declare variables and also type of variables. We can start using a variable to store any data. For example:\n",
    "\n",
    "\n",
    "```\n",
    "x=10\n",
    "y=10e6\n",
    "s='Hello World'\n",
    "```\n",
    "\n",
    "\n",
    "\n",
    "We can print using the print function.\n",
    "\n",
    "`print('Hello World')`"
   ]
  },
  {
   "cell_type": "code",
   "execution_count": 0,
   "metadata": {
    "colab": {
     "base_uri": "https://localhost:8080/",
     "height": 52
    },
    "colab_type": "code",
    "executionInfo": {
     "elapsed": 1108,
     "status": "ok",
     "timestamp": 1534932863957,
     "user": {
      "displayName": "Sukree Sinthupinyo",
      "photoUrl": "//lh6.googleusercontent.com/-eowOIZTAv8A/AAAAAAAAAAI/AAAAAAAAAAA/_EJqrk9YaZc/s50-c-k-no/photo.jpg",
      "userId": "117480694475238210687"
     },
     "user_tz": -420
    },
    "id": "rtJ9iC4cG-yL",
    "outputId": "c4ccd5cd-da28-4634-c080-20a7a9471693"
   },
   "outputs": [
    {
     "name": "stdout",
     "output_type": "stream",
     "text": [
      "10000010.0\n",
      "Hello World\n"
     ]
    }
   ],
   "source": [
    "6x=10\n",
    "y=10e6\n",
    "s='Hello World'\n",
    "print(x+y)\n",
    "print(s)"
   ]
  },
  {
   "cell_type": "markdown",
   "metadata": {
    "colab_type": "text",
    "id": "W-sq2KN5YK3z"
   },
   "source": [
    "## Input\n",
    "\n",
    "We can simply use a function **input('prompt')** to get input from the keyboard. And python will get input as a string. "
   ]
  },
  {
   "cell_type": "code",
   "execution_count": 0,
   "metadata": {
    "colab": {
     "base_uri": "https://localhost:8080/",
     "height": 52
    },
    "colab_type": "code",
    "executionInfo": {
     "elapsed": 4832,
     "status": "ok",
     "timestamp": 1534937184937,
     "user": {
      "displayName": "Sukree Sinthupinyo",
      "photoUrl": "//lh6.googleusercontent.com/-eowOIZTAv8A/AAAAAAAAAAI/AAAAAAAAAAA/_EJqrk9YaZc/s50-c-k-no/photo.jpg",
      "userId": "117480694475238210687"
     },
     "user_tz": -420
    },
    "id": "0_A_vveAYKNb",
    "outputId": "bdc48c71-46ca-45a1-8724-1989021be7cb"
   },
   "outputs": [
    {
     "name": "stdout",
     "output_type": "stream",
     "text": [
      "What's your name?Sukree\n",
      "Your name is Sukree\n"
     ]
    }
   ],
   "source": [
    "name=input(\"What's your name?\")\n",
    "print('Your name is',name)"
   ]
  },
  {
   "cell_type": "markdown",
   "metadata": {
    "colab_type": "text",
    "id": "sZJxfksIXCi5"
   },
   "source": [
    "## Selection\n",
    "\n",
    "***if, else, elif***\n",
    "\n",
    "In python, we can use more complicated logical expression like ***80 <= x <= 100*** and ***elif*** instead of ***else if***\n",
    "\n"
   ]
  },
  {
   "cell_type": "code",
   "execution_count": 0,
   "metadata": {
    "colab": {
     "base_uri": "https://localhost:8080/",
     "height": 52
    },
    "colab_type": "code",
    "executionInfo": {
     "elapsed": 3181,
     "status": "ok",
     "timestamp": 1534937421393,
     "user": {
      "displayName": "Sukree Sinthupinyo",
      "photoUrl": "//lh6.googleusercontent.com/-eowOIZTAv8A/AAAAAAAAAAI/AAAAAAAAAAA/_EJqrk9YaZc/s50-c-k-no/photo.jpg",
      "userId": "117480694475238210687"
     },
     "user_tz": -420
    },
    "id": "O_1xcihNY19k",
    "outputId": "18d224a9-14f2-41e8-c37f-f1813029bdbd"
   },
   "outputs": [
    {
     "name": "stdout",
     "output_type": "stream",
     "text": [
      "Enter your score: 80\n",
      "Grade = A\n"
     ]
    }
   ],
   "source": [
    "score=int(input('Enter your score: '))\n",
    "if 80 <= score <= 100: # 80 <= score <= 100\n",
    "  # if score <= 100 and score >= 80:\n",
    "  grade='A'\n",
    "elif 70 <= score:\n",
    "  grade='B'\n",
    "elif 60 <= score:\n",
    "  grade='C'\n",
    "elif 50 <= score:\n",
    "  grade='D'\n",
    "elif 0 <= 50 < score:\n",
    "  grade='F'\n",
    "else:\n",
    "  grade='Error'\n",
    "print('Grade =',grade)"
   ]
  },
  {
   "cell_type": "markdown",
   "metadata": {
    "colab_type": "text",
    "id": "27Mopy8AddWq"
   },
   "source": [
    "## Logical Expression\n",
    "\n",
    "In python, you can use **and**, **or**, and **not** instead of the symbols **&&**, **||**, and **!** in java.\n",
    "\n",
    "```\n",
    "if score > 100 or score < 0:\n",
    "    print('Error')\n",
    "```\n",
    "\n",
    "\n",
    "\n"
   ]
  },
  {
   "cell_type": "markdown",
   "metadata": {
    "colab_type": "text",
    "id": "zJHX2YHMdL9X"
   },
   "source": [
    "## Repetition\n",
    "\n",
    "### **while** *expression*:\n"
   ]
  },
  {
   "cell_type": "code",
   "execution_count": 0,
   "metadata": {
    "colab": {
     "base_uri": "https://localhost:8080/",
     "height": 87
    },
    "colab_type": "code",
    "executionInfo": {
     "elapsed": 8148,
     "status": "ok",
     "timestamp": 1534938793791,
     "user": {
      "displayName": "Sukree Sinthupinyo",
      "photoUrl": "//lh6.googleusercontent.com/-eowOIZTAv8A/AAAAAAAAAAI/AAAAAAAAAAA/_EJqrk9YaZc/s50-c-k-no/photo.jpg",
      "userId": "117480694475238210687"
     },
     "user_tz": -420
    },
    "id": "fcwAKxZNeUSe",
    "outputId": "b0ff88e1-d5b1-4177-a52b-5c5aa867cc0f"
   },
   "outputs": [
    {
     "name": "stdout",
     "output_type": "stream",
     "text": [
      "Enter your score (Enter -1 to exit): 15\n",
      "Enter your score (Enter -1 to exit): 20\n",
      "Enter your score (Enter -1 to exit): -1\n",
      "Average:  17.5\n"
     ]
    }
   ],
   "source": [
    "score=int(input('Enter your score (Enter -1 to exit): '))\n",
    "sum=0\n",
    "n=0\n",
    "while score >= 0:\n",
    "  sum=sum+score\n",
    "  n=n+1\n",
    "  score=int(input('Enter your score (Enter -1 to exit): '))\n",
    "print('Average: ',sum/n)"
   ]
  },
  {
   "cell_type": "markdown",
   "metadata": {
    "colab_type": "text",
    "id": "-F-pld5G1mAN"
   },
   "source": [
    "### **For loop**\n",
    "\n",
    "***for*** *variable* ***in*** *list*:\n",
    "\n",
    "*list* can be:\n",
    "\n",
    "\n",
    "1.   ***range()***\n",
    "2.   *String*\n",
    "2.   Real *List*\n",
    "\n",
    "\n",
    "***range()***\n",
    "\n",
    "```\n",
    "for i in range(10):\n",
    "    print(i)\n",
    "```\n",
    "\n",
    "\n",
    "```\n",
    "for i in range(1,11):\n",
    "    print(i)\n",
    "```\n",
    "\n",
    "\n",
    "```\n",
    "for i in range(1,11,3):\n",
    "    print(i)\n",
    "```\n",
    "\n",
    "*String*\n",
    "\n",
    "\n",
    "\n",
    "```\n",
    "for c in 'Hello World':\n",
    "    print(c)\n",
    "```\n",
    "\n",
    "\n",
    "\n",
    "\n",
    "\n",
    "\n",
    "\n"
   ]
  },
  {
   "cell_type": "code",
   "execution_count": 0,
   "metadata": {
    "colab": {
     "base_uri": "https://localhost:8080/",
     "height": 52
    },
    "colab_type": "code",
    "executionInfo": {
     "elapsed": 860,
     "status": "ok",
     "timestamp": 1534978752716,
     "user": {
      "displayName": "Sukree Sinthupinyo",
      "photoUrl": "//lh6.googleusercontent.com/-eowOIZTAv8A/AAAAAAAAAAI/AAAAAAAAAAA/_EJqrk9YaZc/s50-c-k-no/photo.jpg",
      "userId": "117480694475238210687"
     },
     "user_tz": -420
    },
    "id": "lEyeYrKv1kye",
    "outputId": "2734f7db-4ed4-4c49-b4a0-61c7c482d837"
   },
   "outputs": [
    {
     "name": "stdout",
     "output_type": "stream",
     "text": [
      "eoo\n",
      "HllWrld\n"
     ]
    }
   ],
   "source": [
    "s='Hello World'\n",
    "o1=''\n",
    "o2=''\n",
    "for c in s:\n",
    "  if c.lower() in 'aeiou':\n",
    "    o1=o1+c\n",
    "  elif c.lower() in 'bcdfghjklmnpqrstvwxyz':\n",
    "    o2=o2+c\n",
    "print(o1)\n",
    "print(o2)"
   ]
  },
  {
   "cell_type": "markdown",
   "metadata": {
    "colab_type": "text",
    "id": "4-Bjitf7VLzr"
   },
   "source": [
    "**String**\n",
    "\n",
    "String can be surrounded by either ' or \". In the case that you need to use a ' in your string, you can surround the string by a \" or vice versa. \n",
    "\n",
    "\n",
    "```\n",
    "s=\"It's a cat.\"\n",
    "```\n",
    "\n",
    "However, in the case that you need to use both ' and \" in your string. You can surround your string using triple ' or \". \n",
    "\n",
    "\n",
    "```\n",
    "s='''That's a my kid. Her name is \"Jane\".'''\n",
    "```\n",
    "\n",
    "\n",
    "\n"
   ]
  },
  {
   "cell_type": "code",
   "execution_count": 0,
   "metadata": {
    "colab": {},
    "colab_type": "code",
    "id": "LlxSbUZvWLzu"
   },
   "outputs": [],
   "source": [
    "s='''That's a my kid. Her name is \"Jane\".'''"
   ]
  },
  {
   "cell_type": "markdown",
   "metadata": {
    "colab_type": "text",
    "id": "1lQwnf1uIQwk"
   },
   "source": [
    "# 29 August 2019"
   ]
  },
  {
   "cell_type": "markdown",
   "metadata": {
    "colab_type": "text",
    "id": "5vMDL9K5W2G9"
   },
   "source": [
    "## List\n",
    "\n",
    "List is a very important data storage of python. The concept is almost same as array. But it can store different type of data. For example, you can store strings and integers in a same list. \n",
    "\n",
    "```\n",
    "student_score1=['5837378921',89,80,81,82]\n",
    "```\n",
    "\n",
    "\n"
   ]
  },
  {
   "cell_type": "markdown",
   "metadata": {
    "colab_type": "text",
    "id": "k74-oOC8IbpS"
   },
   "source": [
    "### List operations\n",
    "\n",
    "#### Iteration. We can use a for loop to iterate all element in a list. \n",
    "\n",
    "\n",
    "```\n",
    "sum=0\n",
    "for e in student_score1:\n",
    "    if type(e) != str:\n",
    "        # It's the id.\n",
    "        sum=sum+e\n",
    "print(sum)\n",
    "```\n"
   ]
  },
  {
   "cell_type": "code",
   "execution_count": 0,
   "metadata": {
    "colab": {
     "base_uri": "https://localhost:8080/",
     "height": 34
    },
    "colab_type": "code",
    "executionInfo": {
     "elapsed": 1091,
     "status": "ok",
     "timestamp": 1534987714958,
     "user": {
      "displayName": "Sukree Sinthupinyo",
      "photoUrl": "//lh6.googleusercontent.com/-eowOIZTAv8A/AAAAAAAAAAI/AAAAAAAAAAA/_EJqrk9YaZc/s50-c-k-no/photo.jpg",
      "userId": "117480694475238210687"
     },
     "user_tz": -420
    },
    "id": "MfGc9ogdW1Mr",
    "outputId": "457763d0-0b4c-4181-a755-429b4e046c5f"
   },
   "outputs": [
    {
     "name": "stdout",
     "output_type": "stream",
     "text": [
      "332\n"
     ]
    }
   ],
   "source": [
    "student_score1=['5837378921',89,80,81,82]\n",
    "sum=0\n",
    "for e in student_score1:\n",
    "  if type(e) != str:\n",
    "    sum=sum+e\n",
    "print(sum)"
   ]
  },
  {
   "cell_type": "markdown",
   "metadata": {
    "colab_type": "text",
    "id": "DP2m1s8HZiqR"
   },
   "source": [
    "#### Append. You can add a new element to a list using **list.append(element)**."
   ]
  },
  {
   "cell_type": "code",
   "execution_count": 0,
   "metadata": {
    "colab": {
     "base_uri": "https://localhost:8080/",
     "height": 34
    },
    "colab_type": "code",
    "executionInfo": {
     "elapsed": 1017,
     "status": "ok",
     "timestamp": 1534988043477,
     "user": {
      "displayName": "Sukree Sinthupinyo",
      "photoUrl": "//lh6.googleusercontent.com/-eowOIZTAv8A/AAAAAAAAAAI/AAAAAAAAAAA/_EJqrk9YaZc/s50-c-k-no/photo.jpg",
      "userId": "117480694475238210687"
     },
     "user_tz": -420
    },
    "id": "pMPYYmA7aklx",
    "outputId": "e74e13b7-997a-4b9f-901a-38c12d7c6928"
   },
   "outputs": [
    {
     "data": {
      "text/plain": [
       "['5837378921', 89, 80, 81, 82, 95]"
      ]
     },
     "execution_count": 17,
     "metadata": {
      "tags": []
     },
     "output_type": "execute_result"
    }
   ],
   "source": [
    "student_score1.append(95)\n",
    "student_score1"
   ]
  },
  {
   "cell_type": "markdown",
   "metadata": {
    "colab_type": "text",
    "id": "ci3UOTxQcyGZ"
   },
   "source": [
    "#### List comprehension. We can use a loop to create a list as below.\n",
    "        \n",
    "\n",
    "```\n",
    "all_ints=[i for i in range(10)]\n",
    "print(all_ints)\n",
    "even_ints=[i for i in range(10) if i%2 == 0]\n",
    "print(even_ints)\n",
    "```\n",
    "\n"
   ]
  },
  {
   "cell_type": "code",
   "execution_count": 0,
   "metadata": {
    "colab": {
     "base_uri": "https://localhost:8080/",
     "height": 52
    },
    "colab_type": "code",
    "executionInfo": {
     "elapsed": 5989,
     "status": "ok",
     "timestamp": 1534988720331,
     "user": {
      "displayName": "Sukree Sinthupinyo",
      "photoUrl": "//lh6.googleusercontent.com/-eowOIZTAv8A/AAAAAAAAAAI/AAAAAAAAAAA/_EJqrk9YaZc/s50-c-k-no/photo.jpg",
      "userId": "117480694475238210687"
     },
     "user_tz": -420
    },
    "id": "kAmGBC4JcxdJ",
    "outputId": "c816d925-0024-440a-fccb-c10a6e84f16d"
   },
   "outputs": [
    {
     "name": "stdout",
     "output_type": "stream",
     "text": [
      "[0, 1, 2, 3, 4, 5, 6, 7, 8, 9]\n",
      "[0, 2, 4, 6, 8]\n"
     ]
    }
   ],
   "source": [
    "all_ints=[i for i in range(10)]\n",
    "print(all_ints)\n",
    "even_ints=[i for i in range(10) if i%2 == 0]\n",
    "print(even_ints)"
   ]
  },
  {
   "cell_type": "markdown",
   "metadata": {
    "colab_type": "text",
    "id": "ITp6DqCCa2i8"
   },
   "source": [
    "***Files***\n",
    "\n",
    "File in python is quite simple. You can open a file using ***f=open(filename,'r')*** and iterate thruough all lines using a loop with ***f.readlines()***\n",
    "\n",
    "For example if your file contains score of students. The format of each line is *id,score* as shown below. \n",
    "\n",
    "\n",
    "```\n",
    "5837327321,90\n",
    "5836732321,89\n",
    "5732387721,85\n",
    "```\n",
    "\n",
    "\n",
    "\n"
   ]
  },
  {
   "cell_type": "code",
   "execution_count": 0,
   "metadata": {
    "colab": {
     "base_uri": "https://localhost:8080/",
     "height": 91,
     "resources": {
      "http://localhost:8080/nbextensions/google.colab/files.js": {
       "data": "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",
       "headers": [
        [
         "content-type",
         "application/javascript"
        ]
       ],
       "ok": true,
       "status": 200,
       "status_text": ""
      }
     }
    },
    "colab_type": "code",
    "executionInfo": {
     "elapsed": 13412,
     "status": "ok",
     "timestamp": 1534988498992,
     "user": {
      "displayName": "Sukree Sinthupinyo",
      "photoUrl": "//lh6.googleusercontent.com/-eowOIZTAv8A/AAAAAAAAAAI/AAAAAAAAAAA/_EJqrk9YaZc/s50-c-k-no/photo.jpg",
      "userId": "117480694475238210687"
     },
     "user_tz": -420
    },
    "id": "II-d3BLBb6fO",
    "outputId": "76e1d794-c175-44c0-9487-1928eae03786"
   },
   "outputs": [
    {
     "data": {
      "text/html": [
       "\n",
       "     <input type=\"file\" id=\"files-a00a4cf4-3e4e-442f-827c-e68d6da4eeb1\" name=\"files[]\" multiple disabled />\n",
       "     <output id=\"result-a00a4cf4-3e4e-442f-827c-e68d6da4eeb1\">\n",
       "      Upload widget is only available when the cell has been executed in the\n",
       "      current browser session. Please rerun this cell to enable.\n",
       "      </output>\n",
       "      <script src=\"/nbextensions/google.colab/files.js\"></script> "
      ],
      "text/plain": [
       "<IPython.core.display.HTML object>"
      ]
     },
     "metadata": {
      "tags": []
     },
     "output_type": "display_data"
    },
    {
     "name": "stdout",
     "output_type": "stream",
     "text": [
      "Saving demo.txt to demo.txt\n"
     ]
    },
    {
     "data": {
      "text/plain": [
       "{'demo.txt': b'5837327321,90\\r\\n5836732321,89\\r\\n5732387721,85'}"
      ]
     },
     "execution_count": 18,
     "metadata": {
      "tags": []
     },
     "output_type": "execute_result"
    }
   ],
   "source": [
    "from google.colab import files\n",
    "files.upload()"
   ]
  },
  {
   "cell_type": "code",
   "execution_count": 0,
   "metadata": {
    "colab": {
     "base_uri": "https://localhost:8080/",
     "height": 70
    },
    "colab_type": "code",
    "executionInfo": {
     "elapsed": 1005,
     "status": "ok",
     "timestamp": 1534988559094,
     "user": {
      "displayName": "Sukree Sinthupinyo",
      "photoUrl": "//lh6.googleusercontent.com/-eowOIZTAv8A/AAAAAAAAAAI/AAAAAAAAAAA/_EJqrk9YaZc/s50-c-k-no/photo.jpg",
      "userId": "117480694475238210687"
     },
     "user_tz": -420
    },
    "id": "bKPsyom2cdCI",
    "outputId": "4e1309f9-b790-4283-a0d3-135dab5759d3"
   },
   "outputs": [
    {
     "name": "stdout",
     "output_type": "stream",
     "text": [
      "5837327321,90\n",
      "5836732321,89\n",
      "5732387721,85\n"
     ]
    }
   ],
   "source": [
    "f=open('demo.txt','r')\n",
    "for line in f.readlines():\n",
    "  print(line.strip())\n",
    "f.close()"
   ]
  },
  {
   "cell_type": "markdown",
   "metadata": {
    "colab_type": "text",
    "id": "zxCsl4hGJ-mq"
   },
   "source": [
    "# 5 September 2019"
   ]
  },
  {
   "cell_type": "markdown",
   "metadata": {
    "colab_type": "text",
    "id": "6Jxchl_mFUDV"
   },
   "source": [
    "## ***Tuples***\n",
    "\n",
    "Tuple is used to stored data with fixed index. It cannot be changed after one it is created. We always use tuple to store data as a record. For example:\n",
    "\n",
    "\n",
    "```\n",
    "b1=('Python for Data Science',178)\n",
    "b2=('Introduction to Python',160)\n",
    "b3=('Computational Thinking',35)\n",
    "b4=('Programming Languages',200)\n",
    "```\n",
    "\n"
   ]
  },
  {
   "cell_type": "code",
   "execution_count": 0,
   "metadata": {
    "colab": {
     "base_uri": "https://localhost:8080/",
     "height": 141
    },
    "colab_type": "code",
    "executionInfo": {
     "elapsed": 973,
     "status": "ok",
     "timestamp": 1567649211334,
     "user": {
      "displayName": "Sukree Sinthupinyo",
      "photoUrl": "https://lh3.googleusercontent.com/a-/AAuE7mCwTfR6DIQq6dt_o4J43EEow2-rWXv7PcBulNMa=s64",
      "userId": "01908604958238614699"
     },
     "user_tz": -420
    },
    "id": "z9ufMrUHKRQl",
    "outputId": "db20622b-67b8-4945-ed53-07e159cd8eab"
   },
   "outputs": [
    {
     "name": "stdout",
     "output_type": "stream",
     "text": [
      "[('Python for Data Science', 178), ('Introduction to Python', 160), ('Computational Thinking', 35), ('Programming Languages', 200)]\n",
      "[('Computational Thinking', 35), ('Introduction to Python', 160), ('Programming Languages', 200), ('Python for Data Science', 178)]\n",
      "[('Python for Data Science', 178), ('Introduction to Python', 160), ('Computational Thinking', 35), ('Programming Languages', 200)]\n",
      "[(200, 'Programming Languages'), (178, 'Python for Data Science'), (160, 'Introduction to Python'), (35, 'Computational Thinking')]\n",
      "[178, 160, 35, 200]\n",
      "143.25\n"
     ]
    }
   ],
   "source": [
    "b1=('Python for Data Science',178)\n",
    "b2=('Introduction to Python',160)\n",
    "b3=('Computational Thinking',35)\n",
    "b4=('Programming Languages',200)\n",
    "books=[b1,b2,b3,b4]\n",
    "print(books)\n",
    "print(sorted(books))\n",
    "print(books)\n",
    "title_first_list=[(price,title) for title,price in books]\n",
    "print(sorted(title_first_list,reverse=True))\n",
    "price_list=[price for title,price in books]\n",
    "print(price_list)\n",
    "print(sum(price_list)/len(price_list))"
   ]
  },
  {
   "cell_type": "code",
   "execution_count": 0,
   "metadata": {
    "colab": {
     "base_uri": "https://localhost:8080/",
     "height": 136
    },
    "colab_type": "code",
    "executionInfo": {
     "elapsed": 816,
     "status": "ok",
     "timestamp": 1535553143535,
     "user": {
      "displayName": "Sukree Sinthupinyo",
      "photoUrl": "//lh6.googleusercontent.com/-eowOIZTAv8A/AAAAAAAAAAI/AAAAAAAAAAA/_EJqrk9YaZc/s50-c-k-no/photo.jpg",
      "userId": "117480694475238210687"
     },
     "user_tz": -420
    },
    "id": "lirlZb8oGLdL",
    "outputId": "985a0de0-9474-4c19-f531-64e3fadd1f22"
   },
   "outputs": [
    {
     "name": "stdout",
     "output_type": "stream",
     "text": [
      "[('Python for Data Science', 178), ('Introduction to Python', 160), ('Computational Thinking', 35), ('Programming Languages', 200)]\n",
      "[('Computational Thinking', 35), ('Introduction to Python', 160), ('Programming Languages', 200), ('Python for Data Science', 178)]\n",
      "[('Python for Data Science', 178), ('Introduction to Python', 160), ('Computational Thinking', 35), ('Programming Languages', 200)]\n",
      "[(178, 'Python for Data Science'), (160, 'Introduction to Python'), (35, 'Computational Thinking'), (200, 'Programming Languages')]\n",
      "[(200, 'Programming Languages'), (178, 'Python for Data Science'), (160, 'Introduction to Python'), (35, 'Computational Thinking')]\n",
      "[178, 160, 35, 200]\n",
      "143.25\n"
     ]
    }
   ],
   "source": [
    "books=[b1,b2,b3,b4]\n",
    "books.sort()"
   ]
  },
  {
   "cell_type": "markdown",
   "metadata": {
    "colab_type": "text",
    "id": "hRrqfZLvHGRI"
   },
   "source": [
    "## ***Dictionary***\n",
    "\n",
    "We always use dictionary for two reasons: to store data as key and value, and to store data indexed by value. \n",
    "\n",
    "To store data as key and value. For example:\n",
    "\n",
    "```\n",
    "5837327321,90\n",
    "5836732321,89\n",
    "5732387721,85\n",
    "```\n",
    "\n",
    "If we want to store ids and scores, we can use dict to keep them. \n",
    "\n",
    "data={5837327321:90,5836732321:89,5732387721:85}\n"
   ]
  },
  {
   "cell_type": "code",
   "execution_count": 0,
   "metadata": {
    "colab": {
     "base_uri": "https://localhost:8080/",
     "height": 156
    },
    "colab_type": "code",
    "executionInfo": {
     "elapsed": 1144,
     "status": "ok",
     "timestamp": 1567652470630,
     "user": {
      "displayName": "Sukree Sinthupinyo",
      "photoUrl": "https://lh3.googleusercontent.com/a-/AAuE7mCwTfR6DIQq6dt_o4J43EEow2-rWXv7PcBulNMa=s64",
      "userId": "01908604958238614699"
     },
     "user_tz": -420
    },
    "id": "h-6gHKZiIf1r",
    "outputId": "869fc891-1b18-4193-e9d9-e3fb45963e24"
   },
   "outputs": [
    {
     "name": "stdout",
     "output_type": "stream",
     "text": [
      "5837327321 is in data\n",
      "90\n",
      "dict_keys([5837327321, 5836732321, 5732387721])\n",
      "dict_values([90, 89, 85])\n",
      "dict_items([(5837327321, 90), (5836732321, 89), (5732387721, 85)])\n",
      "(5837327321, 90)\n",
      "(5836732321, 89)\n",
      "(5732387721, 85)\n"
     ]
    }
   ],
   "source": [
    "data={5837327321:90,5836732321:89,5732387721:85}\n",
    "\n",
    "# We can check whether the key is in dict or not. \n",
    "if 5837327321 in data:\n",
    "  print('5837327321 is in data')\n",
    "  print(data[5837327321])\n",
    "else:\n",
    "  print('5837327321 is not in data')\n",
    "  \n",
    "print(data.keys())\n",
    "print(data.values())\n",
    "print(data.items())\n",
    "\n",
    "for item in data.items():\n",
    "  print(item)"
   ]
  },
  {
   "cell_type": "markdown",
   "metadata": {
    "colab_type": "text",
    "id": "piZk0PifI82h"
   },
   "source": [
    "We also use dict to store records of data. In the case that we want to access by keyword not index. We have known that we can store data using tuples but the problem of using tuples is programmer must use the fixed index of fields as the ones from examples above. If we use dictionary instead of tuples, the results will be:\n",
    "\n",
    "```\n",
    "b1={'title':'Python for Data Science','price':178}\n",
    "b2={'title':'Introduction to Python','price':160,'publisher':'Chulalongkorn University'}\n",
    "b3={'title':'Computational Thinking','price':35}\n",
    "b4={'title':'Programming Languages','price':200}\n",
    "```"
   ]
  },
  {
   "cell_type": "code",
   "execution_count": 0,
   "metadata": {
    "colab": {
     "base_uri": "https://localhost:8080/",
     "height": 87
    },
    "colab_type": "code",
    "executionInfo": {
     "elapsed": 1022,
     "status": "ok",
     "timestamp": 1567652246566,
     "user": {
      "displayName": "Sukree Sinthupinyo",
      "photoUrl": "https://lh3.googleusercontent.com/a-/AAuE7mCwTfR6DIQq6dt_o4J43EEow2-rWXv7PcBulNMa=s64",
      "userId": "01908604958238614699"
     },
     "user_tz": -420
    },
    "id": "-H-iISyregUg",
    "outputId": "aa79ebd5-431b-4a60-b072-44be50b52268"
   },
   "outputs": [
    {
     "name": "stdout",
     "output_type": "stream",
     "text": [
      "Python for Data Science\n",
      "Introduction to Python\n",
      "Computational Thinking\n",
      "Programming Languages\n"
     ]
    }
   ],
   "source": [
    "b1={'title':'Python for Data Science','price':178}\n",
    "b2={'title':'Introduction to Python','price':160,'publisher':'Chulalongkorn University'}\n",
    "b3={'title':'Computational Thinking','price':35}\n",
    "b4={'title':'Programming Languages','price':200}\n",
    "\n",
    "books=[b1,b2,b3,b4]\n",
    "\n",
    "for book in books:\n",
    "  print(book['title'])"
   ]
  },
  {
   "cell_type": "code",
   "execution_count": 0,
   "metadata": {
    "colab": {
     "base_uri": "https://localhost:8080/",
     "height": 51
    },
    "colab_type": "code",
    "executionInfo": {
     "elapsed": 7607,
     "status": "ok",
     "timestamp": 1535576733564,
     "user": {
      "displayName": "Sukree Sinthupinyo",
      "photoUrl": "//lh6.googleusercontent.com/-eowOIZTAv8A/AAAAAAAAAAI/AAAAAAAAAAA/_EJqrk9YaZc/s50-c-k-no/photo.jpg",
      "userId": "117480694475238210687"
     },
     "user_tz": -420
    },
    "id": "GmAMulbXe_MD",
    "outputId": "56f86dc2-0102-4662-9829-41f429b17522"
   },
   "outputs": [
    {
     "name": "stdout",
     "output_type": "stream",
     "text": [
      "Please specify isbn: 1786464326\n",
      "Not found\n"
     ]
    }
   ],
   "source": [
    "b1={'title':'Python for Data Science','price':178}\n",
    "b2={'title':'Introduction to Python','price':160}\n",
    "b3={'title':'Computational Thinking','price':35}\n",
    "b4={'title':'Programming Languages','price':200}\n",
    "\n",
    "books = {'1789532027':b1,'1785888633':b2,'150930276X':b3,'1786464306':b4}\n",
    "\n",
    "isbn = input('Please specify isbn: ')\n",
    "if isbn in books:\n",
    "  print('Book title:',books[isbn]['title'])\n",
    "  print('Price:',books[isbn]['price'])\n",
    "else:\n",
    "  print('Not found')"
   ]
  },
  {
   "cell_type": "code",
   "execution_count": 0,
   "metadata": {
    "colab": {
     "base_uri": "https://localhost:8080/",
     "height": 51
    },
    "colab_type": "code",
    "executionInfo": {
     "elapsed": 830,
     "status": "ok",
     "timestamp": 1535577409973,
     "user": {
      "displayName": "Sukree Sinthupinyo",
      "photoUrl": "//lh6.googleusercontent.com/-eowOIZTAv8A/AAAAAAAAAAI/AAAAAAAAAAA/_EJqrk9YaZc/s50-c-k-no/photo.jpg",
      "userId": "117480694475238210687"
     },
     "user_tz": -420
    },
    "id": "N8BD5b0ViqGA",
    "outputId": "36e5d183-bc61-43a4-ad7b-fb5c59278584"
   },
   "outputs": [
    {
     "name": "stdout",
     "output_type": "stream",
     "text": [
      "dict_keys(['1789532027', '1785888633', '150930276X', '1786464306'])\n",
      "dict_values([{'title': 'Python for Data Science', 'price': 178}, {'title': 'Introduction to Python', 'price': 160}, {'title': 'Computational Thinking', 'price': 35}, {'title': 'Programming Languages', 'price': 200}])\n"
     ]
    }
   ],
   "source": [
    "# We can get the keys and values of dictionary using dict.keys() and dict.values() respectively. \n",
    "\n",
    "b1={'title':'Python for Data Science','price':178}\n",
    "b2={'title':'Introduction to Python','price':160}\n",
    "b3={'title':'Computational Thinking','price':35}\n",
    "b4={'title':'Programming Languages','price':200}\n",
    "\n",
    "books = {'1789532027':b1,'1785888633':b2,'150930276X':b3,'1786464306':b4}\n",
    "\n",
    "print(books.keys())\n",
    "print(books.values())"
   ]
  },
  {
   "cell_type": "markdown",
   "metadata": {
    "colab_type": "text",
    "id": "LKytj8XBZVvG"
   },
   "source": [
    "To create a dictionary, we can use \n",
    "\n",
    "\n",
    "\n",
    "```\n",
    "d={key1:value1,key2:value2,key3:value3}\n",
    "```\n",
    "\n",
    "or \n",
    "\n",
    "\n",
    "\n",
    "```\n",
    "d=dict()\n",
    "d[key1]=value1\n",
    "d[key2]=value2\n",
    "d[key3]=value3\n",
    "```\n",
    "\n",
    "\n",
    "\n"
   ]
  },
  {
   "cell_type": "markdown",
   "metadata": {
    "colab_type": "text",
    "id": "MbO1WU_prNUm"
   },
   "source": [
    "## **Set**\n",
    "\n",
    "Set is dictionary without value. It can store only the unique members. For example, if you have a list **[1,2,3,9,2]**, it will be **{1,2,3,9}** when you convert it to a set. \n",
    "\n",
    "You can use set operations with python set. It's quite simple as shown below.\n",
    "\n",
    "```\n",
    "a={3,2,1,'a'}\n",
    "b={'b','a',3,4,5}\n",
    "```\n",
    "\n",
    "**a.union(b)** will be** {3,2,1,'a','b',4,5} **and **a.intersection(b**) will be **{3,'a'}**.\n",
    "\n",
    "\n",
    "\n"
   ]
  },
  {
   "cell_type": "code",
   "execution_count": 0,
   "metadata": {
    "colab": {
     "base_uri": "https://localhost:8080/",
     "height": 85
    },
    "colab_type": "code",
    "executionInfo": {
     "elapsed": 1068,
     "status": "ok",
     "timestamp": 1535596646196,
     "user": {
      "displayName": "Sukree Sinthupinyo",
      "photoUrl": "//lh6.googleusercontent.com/-eowOIZTAv8A/AAAAAAAAAAI/AAAAAAAAAAA/_EJqrk9YaZc/s50-c-k-no/photo.jpg",
      "userId": "117480694475238210687"
     },
     "user_tz": -420
    },
    "id": "vJUWQLIEsOI8",
    "outputId": "b98f3924-3871-4ccf-e0b6-fc983f917024"
   },
   "outputs": [
    {
     "name": "stdout",
     "output_type": "stream",
     "text": [
      "{1, 2, 3, 'b', 5, 4, 'a'}\n",
      "{3, 'a'}\n",
      "{1, 2}\n",
      "{4, 'b', 5}\n"
     ]
    }
   ],
   "source": [
    "ฃ"
   ]
  },
  {
   "cell_type": "markdown",
   "metadata": {
    "colab_type": "text",
    "id": "SLaROrJVhB2d"
   },
   "source": [
    "## ***JSON***\n",
    "\n",
    "Json is always used in modern data exchange. When you access data from the webpages, the data often are returned in JSON format, especially in mobile applications. \n",
    "\n",
    "In this example, we use the open weather map to demonstrate how to use API. \n",
    "\n",
    "When we want to access data from openweathermap.org, we can use this url:\n",
    "\n",
    "api.openweathermap.org/data/2.5/forecast?q=Bangkok&APPID=7743f38ce634083abe786e2d679955e3 \n",
    "\n",
    "To be able to get data from urls, we need to use the library requests as shown in an example below:\n",
    "\n",
    "\n",
    "\n",
    "```\n",
    "import requests\n",
    "```\n",
    "\n"
   ]
  },
  {
   "cell_type": "code",
   "execution_count": 0,
   "metadata": {
    "colab": {
     "base_uri": "https://localhost:8080/",
     "height": 72
    },
    "colab_type": "code",
    "executionInfo": {
     "elapsed": 1044,
     "status": "ok",
     "timestamp": 1565971151671,
     "user": {
      "displayName": "Sukree Sinthupinyo",
      "photoUrl": "https://lh6.googleusercontent.com/-eowOIZTAv8A/AAAAAAAAAAI/AAAAAAAAAAA/_EJqrk9YaZc/s64/photo.jpg",
      "userId": "01908604958238614699"
     },
     "user_tz": -420
    },
    "id": "jEFibXfQjNPE",
    "outputId": "f075d78b-dcd8-4da2-aad3-de79b278744e"
   },
   "outputs": [
    {
     "name": "stdout",
     "output_type": "stream",
     "text": [
      "<Response [200]>\n",
      "{'cod': '200', 'message': 0.007, 'cnt': 40, 'list': [{'dt': 1565978400, 'main': {'temp': 27.21, 'temp_min': 27.21, 'temp_max': 27.59, 'pressure': 1006.77, 'sea_level': 1006.77, 'grnd_level': 1005.57, 'humidity': 77, 'temp_kf': -0.39}, 'weather': [{'id': 501, 'main': 'Rain', 'description': 'moderate rain', 'icon': '10n'}], 'clouds': {'all': 100}, 'wind': {'speed': 2.68, 'deg': 242.48}, 'rain': {'3h': 3.5}, 'sys': {'pod': 'n'}, 'dt_txt': '2019-08-16 18:00:00'}, {'dt': 1565989200, 'main': {'temp': 27.25, 'temp_min': 27.25, 'temp_max': 27.54, 'pressure': 1005.48, 'sea_level': 1005.48, 'grnd_level': 1004.25, 'humidity': 72, 'temp_kf': -0.29}, 'weather': [{'id': 804, 'main': 'Clouds', 'description': 'overcast clouds', 'icon': '04n'}], 'clouds': {'all': 100}, 'wind': {'speed': 4, 'deg': 234.507}, 'sys': {'pod': 'n'}, 'dt_txt': '2019-08-16 21:00:00'}, {'dt': 1566000000, 'main': {'temp': 27.47, 'temp_min': 27.47, 'temp_max': 27.66, 'pressure': 1007.21, 'sea_level': 1007.21, 'grnd_level': 1006.05, 'humidity': 73, 'temp_kf': -0.19}, 'weather': [{'id': 804, 'main': 'Clouds', 'description': 'overcast clouds', 'icon': '04d'}], 'clouds': {'all': 100}, 'wind': {'speed': 2.96, 'deg': 225.971}, 'sys': {'pod': 'd'}, 'dt_txt': '2019-08-17 00:00:00'}, {'dt': 1566010800, 'main': {'temp': 31.55, 'temp_min': 31.55, 'temp_max': 31.65, 'pressure': 1008.29, 'sea_level': 1008.29, 'grnd_level': 1007.14, 'humidity': 58, 'temp_kf': -0.1}, 'weather': [{'id': 804, 'main': 'Clouds', 'description': 'overcast clouds', 'icon': '04d'}], 'clouds': {'all': 100}, 'wind': {'speed': 3.99, 'deg': 236.27}, 'sys': {'pod': 'd'}, 'dt_txt': '2019-08-17 03:00:00'}, {'dt': 1566021600, 'main': {'temp': 33.17, 'temp_min': 33.17, 'temp_max': 33.17, 'pressure': 1007.04, 'sea_level': 1007.04, 'grnd_level': 1005.74, 'humidity': 54, 'temp_kf': 0}, 'weather': [{'id': 500, 'main': 'Rain', 'description': 'light rain', 'icon': '10d'}], 'clouds': {'all': 100}, 'wind': {'speed': 5.49, 'deg': 252.621}, 'rain': {'3h': 0.75}, 'sys': {'pod': 'd'}, 'dt_txt': '2019-08-17 06:00:00'}, {'dt': 1566032400, 'main': {'temp': 32.05, 'temp_min': 32.05, 'temp_max': 32.05, 'pressure': 1004.97, 'sea_level': 1004.97, 'grnd_level': 1003.69, 'humidity': 56, 'temp_kf': 0}, 'weather': [{'id': 500, 'main': 'Rain', 'description': 'light rain', 'icon': '10d'}], 'clouds': {'all': 100}, 'wind': {'speed': 5.4, 'deg': 256.766}, 'rain': {'3h': 1.75}, 'sys': {'pod': 'd'}, 'dt_txt': '2019-08-17 09:00:00'}, {'dt': 1566043200, 'main': {'temp': 30.55, 'temp_min': 30.55, 'temp_max': 30.55, 'pressure': 1007.15, 'sea_level': 1007.15, 'grnd_level': 1005.68, 'humidity': 62, 'temp_kf': 0}, 'weather': [{'id': 500, 'main': 'Rain', 'description': 'light rain', 'icon': '10n'}], 'clouds': {'all': 100}, 'wind': {'speed': 3.57, 'deg': 225.602}, 'rain': {'3h': 0.062}, 'sys': {'pod': 'n'}, 'dt_txt': '2019-08-17 12:00:00'}, {'dt': 1566054000, 'main': {'temp': 29.07, 'temp_min': 29.07, 'temp_max': 29.07, 'pressure': 1009.5, 'sea_level': 1009.5, 'grnd_level': 1008.06, 'humidity': 65, 'temp_kf': 0}, 'weather': [{'id': 804, 'main': 'Clouds', 'description': 'overcast clouds', 'icon': '04n'}], 'clouds': {'all': 100}, 'wind': {'speed': 4.75, 'deg': 234.093}, 'sys': {'pod': 'n'}, 'dt_txt': '2019-08-17 15:00:00'}, {'dt': 1566064800, 'main': {'temp': 28.08, 'temp_min': 28.08, 'temp_max': 28.08, 'pressure': 1008.98, 'sea_level': 1008.98, 'grnd_level': 1007.74, 'humidity': 68, 'temp_kf': 0}, 'weather': [{'id': 500, 'main': 'Rain', 'description': 'light rain', 'icon': '10n'}], 'clouds': {'all': 100}, 'wind': {'speed': 3.78, 'deg': 234.633}, 'rain': {'3h': 0.376}, 'sys': {'pod': 'n'}, 'dt_txt': '2019-08-17 18:00:00'}, {'dt': 1566075600, 'main': {'temp': 27.11, 'temp_min': 27.11, 'temp_max': 27.11, 'pressure': 1007.86, 'sea_level': 1007.86, 'grnd_level': 1006.76, 'humidity': 74, 'temp_kf': 0}, 'weather': [{'id': 804, 'main': 'Clouds', 'description': 'overcast clouds', 'icon': '04n'}], 'clouds': {'all': 100}, 'wind': {'speed': 3.87, 'deg': 233.311}, 'sys': {'pod': 'n'}, 'dt_txt': '2019-08-17 21:00:00'}, {'dt': 1566086400, 'main': {'temp': 26.95, 'temp_min': 26.95, 'temp_max': 26.95, 'pressure': 1009.35, 'sea_level': 1009.35, 'grnd_level': 1008.16, 'humidity': 76, 'temp_kf': 0}, 'weather': [{'id': 804, 'main': 'Clouds', 'description': 'overcast clouds', 'icon': '04d'}], 'clouds': {'all': 100}, 'wind': {'speed': 3.25, 'deg': 243.695}, 'sys': {'pod': 'd'}, 'dt_txt': '2019-08-18 00:00:00'}, {'dt': 1566097200, 'main': {'temp': 30.04, 'temp_min': 30.04, 'temp_max': 30.04, 'pressure': 1010.52, 'sea_level': 1010.52, 'grnd_level': 1009.47, 'humidity': 64, 'temp_kf': 0}, 'weather': [{'id': 804, 'main': 'Clouds', 'description': 'overcast clouds', 'icon': '04d'}], 'clouds': {'all': 100}, 'wind': {'speed': 3.52, 'deg': 282.946}, 'sys': {'pod': 'd'}, 'dt_txt': '2019-08-18 03:00:00'}, {'dt': 1566108000, 'main': {'temp': 32.29, 'temp_min': 32.29, 'temp_max': 32.29, 'pressure': 1008.69, 'sea_level': 1008.69, 'grnd_level': 1007.55, 'humidity': 58, 'temp_kf': 0}, 'weather': [{'id': 500, 'main': 'Rain', 'description': 'light rain', 'icon': '10d'}], 'clouds': {'all': 100}, 'wind': {'speed': 4.04, 'deg': 268.382}, 'rain': {'3h': 0.626}, 'sys': {'pod': 'd'}, 'dt_txt': '2019-08-18 06:00:00'}, {'dt': 1566118800, 'main': {'temp': 32.25, 'temp_min': 32.25, 'temp_max': 32.25, 'pressure': 1006.34, 'sea_level': 1006.34, 'grnd_level': 1005.07, 'humidity': 59, 'temp_kf': 0}, 'weather': [{'id': 501, 'main': 'Rain', 'description': 'moderate rain', 'icon': '10d'}], 'clouds': {'all': 100}, 'wind': {'speed': 5.61, 'deg': 279.224}, 'rain': {'3h': 3.562}, 'sys': {'pod': 'd'}, 'dt_txt': '2019-08-18 09:00:00'}, {'dt': 1566129600, 'main': {'temp': 29.94, 'temp_min': 29.94, 'temp_max': 29.94, 'pressure': 1007.74, 'sea_level': 1007.74, 'grnd_level': 1006.26, 'humidity': 64, 'temp_kf': 0}, 'weather': [{'id': 500, 'main': 'Rain', 'description': 'light rain', 'icon': '10n'}], 'clouds': {'all': 100}, 'wind': {'speed': 3.76, 'deg': 253.162}, 'rain': {'3h': 1.188}, 'sys': {'pod': 'n'}, 'dt_txt': '2019-08-18 12:00:00'}, {'dt': 1566140400, 'main': {'temp': 29.22, 'temp_min': 29.22, 'temp_max': 29.22, 'pressure': 1010.07, 'sea_level': 1010.07, 'grnd_level': 1008.75, 'humidity': 65, 'temp_kf': 0}, 'weather': [{'id': 804, 'main': 'Clouds', 'description': 'overcast clouds', 'icon': '04n'}], 'clouds': {'all': 100}, 'wind': {'speed': 3.51, 'deg': 251.07}, 'sys': {'pod': 'n'}, 'dt_txt': '2019-08-18 15:00:00'}, {'dt': 1566151200, 'main': {'temp': 28.37, 'temp_min': 28.37, 'temp_max': 28.37, 'pressure': 1009.14, 'sea_level': 1009.14, 'grnd_level': 1007.89, 'humidity': 73, 'temp_kf': 0}, 'weather': [{'id': 804, 'main': 'Clouds', 'description': 'overcast clouds', 'icon': '04n'}], 'clouds': {'all': 100}, 'wind': {'speed': 3.28, 'deg': 241.146}, 'sys': {'pod': 'n'}, 'dt_txt': '2019-08-18 18:00:00'}, {'dt': 1566162000, 'main': {'temp': 27.19, 'temp_min': 27.19, 'temp_max': 27.19, 'pressure': 1007.82, 'sea_level': 1007.82, 'grnd_level': 1006.76, 'humidity': 69, 'temp_kf': 0}, 'weather': [{'id': 804, 'main': 'Clouds', 'description': 'overcast clouds', 'icon': '04n'}], 'clouds': {'all': 100}, 'wind': {'speed': 3.43, 'deg': 244.562}, 'sys': {'pod': 'n'}, 'dt_txt': '2019-08-18 21:00:00'}, {'dt': 1566172800, 'main': {'temp': 27.17, 'temp_min': 27.17, 'temp_max': 27.17, 'pressure': 1009.26, 'sea_level': 1009.26, 'grnd_level': 1008.02, 'humidity': 70, 'temp_kf': 0}, 'weather': [{'id': 804, 'main': 'Clouds', 'description': 'overcast clouds', 'icon': '04d'}], 'clouds': {'all': 100}, 'wind': {'speed': 2.95, 'deg': 254.452}, 'sys': {'pod': 'd'}, 'dt_txt': '2019-08-19 00:00:00'}, {'dt': 1566183600, 'main': {'temp': 30.09, 'temp_min': 30.09, 'temp_max': 30.09, 'pressure': 1010.21, 'sea_level': 1010.21, 'grnd_level': 1009.29, 'humidity': 61, 'temp_kf': 0}, 'weather': [{'id': 804, 'main': 'Clouds', 'description': 'overcast clouds', 'icon': '04d'}], 'clouds': {'all': 100}, 'wind': {'speed': 3.02, 'deg': 271.536}, 'sys': {'pod': 'd'}, 'dt_txt': '2019-08-19 03:00:00'}, {'dt': 1566194400, 'main': {'temp': 33.35, 'temp_min': 33.35, 'temp_max': 33.35, 'pressure': 1008.03, 'sea_level': 1008.03, 'grnd_level': 1007.15, 'humidity': 52, 'temp_kf': 0}, 'weather': [{'id': 804, 'main': 'Clouds', 'description': 'overcast clouds', 'icon': '04d'}], 'clouds': {'all': 99}, 'wind': {'speed': 4.69, 'deg': 261.941}, 'sys': {'pod': 'd'}, 'dt_txt': '2019-08-19 06:00:00'}, {'dt': 1566205200, 'main': {'temp': 33.45, 'temp_min': 33.45, 'temp_max': 33.45, 'pressure': 1005.42, 'sea_level': 1005.42, 'grnd_level': 1003.94, 'humidity': 53, 'temp_kf': 0}, 'weather': [{'id': 804, 'main': 'Clouds', 'description': 'overcast clouds', 'icon': '04d'}], 'clouds': {'all': 100}, 'wind': {'speed': 3.79, 'deg': 255.722}, 'sys': {'pod': 'd'}, 'dt_txt': '2019-08-19 09:00:00'}, {'dt': 1566216000, 'main': {'temp': 29.57, 'temp_min': 29.57, 'temp_max': 29.57, 'pressure': 1006.45, 'sea_level': 1006.45, 'grnd_level': 1005.28, 'humidity': 67, 'temp_kf': 0}, 'weather': [{'id': 501, 'main': 'Rain', 'description': 'moderate rain', 'icon': '10n'}], 'clouds': {'all': 100}, 'wind': {'speed': 4.9, 'deg': 234.187}, 'rain': {'3h': 5.25}, 'sys': {'pod': 'n'}, 'dt_txt': '2019-08-19 12:00:00'}, {'dt': 1566226800, 'main': {'temp': 28.99, 'temp_min': 28.99, 'temp_max': 28.99, 'pressure': 1008.63, 'sea_level': 1008.63, 'grnd_level': 1007.4, 'humidity': 69, 'temp_kf': 0}, 'weather': [{'id': 500, 'main': 'Rain', 'description': 'light rain', 'icon': '10n'}], 'clouds': {'all': 100}, 'wind': {'speed': 3.79, 'deg': 241.379}, 'rain': {'3h': 0.5}, 'sys': {'pod': 'n'}, 'dt_txt': '2019-08-19 15:00:00'}, {'dt': 1566237600, 'main': {'temp': 27.93, 'temp_min': 27.93, 'temp_max': 27.93, 'pressure': 1007.38, 'sea_level': 1007.38, 'grnd_level': 1006.2, 'humidity': 73, 'temp_kf': 0}, 'weather': [{'id': 804, 'main': 'Clouds', 'description': 'overcast clouds', 'icon': '04n'}], 'clouds': {'all': 100}, 'wind': {'speed': 3.92, 'deg': 241.154}, 'rain': {}, 'sys': {'pod': 'n'}, 'dt_txt': '2019-08-19 18:00:00'}, {'dt': 1566248400, 'main': {'temp': 26.72, 'temp_min': 26.72, 'temp_max': 26.72, 'pressure': 1005.99, 'sea_level': 1005.99, 'grnd_level': 1004.89, 'humidity': 75, 'temp_kf': 0}, 'weather': [{'id': 804, 'main': 'Clouds', 'description': 'overcast clouds', 'icon': '04n'}], 'clouds': {'all': 100}, 'wind': {'speed': 3.88, 'deg': 248.316}, 'sys': {'pod': 'n'}, 'dt_txt': '2019-08-19 21:00:00'}, {'dt': 1566259200, 'main': {'temp': 27.09, 'temp_min': 27.09, 'temp_max': 27.09, 'pressure': 1007.65, 'sea_level': 1007.65, 'grnd_level': 1006.6, 'humidity': 73, 'temp_kf': 0}, 'weather': [{'id': 804, 'main': 'Clouds', 'description': 'overcast clouds', 'icon': '04d'}], 'clouds': {'all': 100}, 'wind': {'speed': 3.15, 'deg': 227.302}, 'sys': {'pod': 'd'}, 'dt_txt': '2019-08-20 00:00:00'}, {'dt': 1566270000, 'main': {'temp': 28.35, 'temp_min': 28.35, 'temp_max': 28.35, 'pressure': 1008.93, 'sea_level': 1008.93, 'grnd_level': 1007.98, 'humidity': 69, 'temp_kf': 0}, 'weather': [{'id': 804, 'main': 'Clouds', 'description': 'overcast clouds', 'icon': '04d'}], 'clouds': {'all': 100}, 'wind': {'speed': 3.54, 'deg': 241.144}, 'sys': {'pod': 'd'}, 'dt_txt': '2019-08-20 03:00:00'}, {'dt': 1566280800, 'main': {'temp': 29.77, 'temp_min': 29.77, 'temp_max': 29.77, 'pressure': 1007.39, 'sea_level': 1007.39, 'grnd_level': 1006.33, 'humidity': 66, 'temp_kf': 0}, 'weather': [{'id': 804, 'main': 'Clouds', 'description': 'overcast clouds', 'icon': '04d'}], 'clouds': {'all': 100}, 'wind': {'speed': 5.02, 'deg': 254.229}, 'sys': {'pod': 'd'}, 'dt_txt': '2019-08-20 06:00:00'}, {'dt': 1566291600, 'main': {'temp': 28.35, 'temp_min': 28.35, 'temp_max': 28.35, 'pressure': 1005.53, 'sea_level': 1005.53, 'grnd_level': 1004.43, 'humidity': 70, 'temp_kf': 0}, 'weather': [{'id': 804, 'main': 'Clouds', 'description': 'overcast clouds', 'icon': '04d'}], 'clouds': {'all': 100}, 'wind': {'speed': 4.6, 'deg': 267.136}, 'sys': {'pod': 'd'}, 'dt_txt': '2019-08-20 09:00:00'}, {'dt': 1566302400, 'main': {'temp': 27.65, 'temp_min': 27.65, 'temp_max': 27.65, 'pressure': 1007.03, 'sea_level': 1007.03, 'grnd_level': 1006.03, 'humidity': 68, 'temp_kf': 0}, 'weather': [{'id': 804, 'main': 'Clouds', 'description': 'overcast clouds', 'icon': '04n'}], 'clouds': {'all': 100}, 'wind': {'speed': 4.87, 'deg': 268.353}, 'sys': {'pod': 'n'}, 'dt_txt': '2019-08-20 12:00:00'}, {'dt': 1566313200, 'main': {'temp': 27.23, 'temp_min': 27.23, 'temp_max': 27.23, 'pressure': 1008.85, 'sea_level': 1008.85, 'grnd_level': 1007.63, 'humidity': 72, 'temp_kf': 0}, 'weather': [{'id': 804, 'main': 'Clouds', 'description': 'overcast clouds', 'icon': '04n'}], 'clouds': {'all': 100}, 'wind': {'speed': 3.78, 'deg': 229.437}, 'sys': {'pod': 'n'}, 'dt_txt': '2019-08-20 15:00:00'}, {'dt': 1566324000, 'main': {'temp': 26.65, 'temp_min': 26.65, 'temp_max': 26.65, 'pressure': 1007.96, 'sea_level': 1007.96, 'grnd_level': 1006.99, 'humidity': 68, 'temp_kf': 0}, 'weather': [{'id': 804, 'main': 'Clouds', 'description': 'overcast clouds', 'icon': '04n'}], 'clouds': {'all': 98}, 'wind': {'speed': 4.38, 'deg': 239.355}, 'sys': {'pod': 'n'}, 'dt_txt': '2019-08-20 18:00:00'}, {'dt': 1566334800, 'main': {'temp': 26.72, 'temp_min': 26.72, 'temp_max': 26.72, 'pressure': 1006.8, 'sea_level': 1006.8, 'grnd_level': 1005.76, 'humidity': 68, 'temp_kf': 0}, 'weather': [{'id': 804, 'main': 'Clouds', 'description': 'overcast clouds', 'icon': '04n'}], 'clouds': {'all': 100}, 'wind': {'speed': 3.72, 'deg': 235.66}, 'sys': {'pod': 'n'}, 'dt_txt': '2019-08-20 21:00:00'}, {'dt': 1566345600, 'main': {'temp': 26.62, 'temp_min': 26.62, 'temp_max': 26.62, 'pressure': 1007.91, 'sea_level': 1007.91, 'grnd_level': 1006.84, 'humidity': 70, 'temp_kf': 0}, 'weather': [{'id': 804, 'main': 'Clouds', 'description': 'overcast clouds', 'icon': '04d'}], 'clouds': {'all': 100}, 'wind': {'speed': 2.67, 'deg': 227.2}, 'sys': {'pod': 'd'}, 'dt_txt': '2019-08-21 00:00:00'}, {'dt': 1566356400, 'main': {'temp': 27.54, 'temp_min': 27.54, 'temp_max': 27.54, 'pressure': 1009.12, 'sea_level': 1009.12, 'grnd_level': 1008.11, 'humidity': 68, 'temp_kf': 0}, 'weather': [{'id': 804, 'main': 'Clouds', 'description': 'overcast clouds', 'icon': '04d'}], 'clouds': {'all': 100}, 'wind': {'speed': 4.58, 'deg': 233.178}, 'sys': {'pod': 'd'}, 'dt_txt': '2019-08-21 03:00:00'}, {'dt': 1566367200, 'main': {'temp': 27.67, 'temp_min': 27.67, 'temp_max': 27.67, 'pressure': 1007.31, 'sea_level': 1007.31, 'grnd_level': 1006.38, 'humidity': 66, 'temp_kf': 0}, 'weather': [{'id': 804, 'main': 'Clouds', 'description': 'overcast clouds', 'icon': '04d'}], 'clouds': {'all': 100}, 'wind': {'speed': 5.93, 'deg': 232.386}, 'sys': {'pod': 'd'}, 'dt_txt': '2019-08-21 06:00:00'}, {'dt': 1566378000, 'main': {'temp': 27.28, 'temp_min': 27.28, 'temp_max': 27.28, 'pressure': 1005.76, 'sea_level': 1005.76, 'grnd_level': 1004.51, 'humidity': 66, 'temp_kf': 0}, 'weather': [{'id': 804, 'main': 'Clouds', 'description': 'overcast clouds', 'icon': '04d'}], 'clouds': {'all': 100}, 'wind': {'speed': 4.96, 'deg': 215.861}, 'sys': {'pod': 'd'}, 'dt_txt': '2019-08-21 09:00:00'}, {'dt': 1566388800, 'main': {'temp': 27.64, 'temp_min': 27.64, 'temp_max': 27.64, 'pressure': 1007.01, 'sea_level': 1007.01, 'grnd_level': 1005.63, 'humidity': 62, 'temp_kf': 0}, 'weather': [{'id': 804, 'main': 'Clouds', 'description': 'overcast clouds', 'icon': '04n'}], 'clouds': {'all': 100}, 'wind': {'speed': 4.78, 'deg': 213.737}, 'sys': {'pod': 'n'}, 'dt_txt': '2019-08-21 12:00:00'}, {'dt': 1566399600, 'main': {'temp': 27.33, 'temp_min': 27.33, 'temp_max': 27.33, 'pressure': 1009.49, 'sea_level': 1009.49, 'grnd_level': 1008.49, 'humidity': 65, 'temp_kf': 0}, 'weather': [{'id': 804, 'main': 'Clouds', 'description': 'overcast clouds', 'icon': '04n'}], 'clouds': {'all': 100}, 'wind': {'speed': 5.19, 'deg': 231.984}, 'sys': {'pod': 'n'}, 'dt_txt': '2019-08-21 15:00:00'}], 'city': {'name': 'Pahtum Wan', 'coord': {'lat': 13.7833, 'lon': 100.5167}, 'country': 'TH', 'timezone': 25200, 'sunrise': 1565910301, 'sunset': 1565955597}}\n"
     ]
    }
   ],
   "source": [
    "import requests\n",
    "\n",
    "ret = requests.get('http://api.openweathermap.org/data/2.5/forecast?zip=10330,th&APPID=7743f38ce634083abe786e2d679955e3&units=metric')\n",
    "\n",
    "print(ret)\n",
    "print(ret.json())\n"
   ]
  },
  {
   "cell_type": "code",
   "execution_count": 0,
   "metadata": {
    "colab": {
     "base_uri": "https://localhost:8080/",
     "height": 731
    },
    "colab_type": "code",
    "executionInfo": {
     "elapsed": 1143,
     "status": "ok",
     "timestamp": 1535635469470,
     "user": {
      "displayName": "Sukree Sinthupinyo",
      "photoUrl": "//lh6.googleusercontent.com/-eowOIZTAv8A/AAAAAAAAAAI/AAAAAAAAAAA/_EJqrk9YaZc/s50-c-k-no/photo.jpg",
      "userId": "117480694475238210687"
     },
     "user_tz": -420
    },
    "id": "uveK0b4gjzN7",
    "outputId": "c4b06b68-ae0b-4eaa-b318-c0f68e33f132"
   },
   "outputs": [
    {
     "name": "stdout",
     "output_type": "stream",
     "text": [
      "dict_keys(['cod', 'message', 'cnt', 'list', 'city'])\n",
      "{'id': 890000328, 'name': 'Bangkok', 'coord': {'lat': 13.7543, 'lon': 100.4931}, 'country': 'TH'}\n",
      "2018-08-30 15:00:00 26.92\n",
      "2018-08-30 18:00:00 26.22\n",
      "2018-08-30 21:00:00 25.63\n",
      "2018-08-31 00:00:00 23.87\n",
      "2018-08-31 03:00:00 28.46\n",
      "2018-08-31 06:00:00 31.09\n",
      "2018-08-31 09:00:00 26.83\n",
      "2018-08-31 12:00:00 26.01\n",
      "2018-08-31 15:00:00 25.22\n",
      "2018-08-31 18:00:00 24.02\n",
      "2018-08-31 21:00:00 23.55\n",
      "2018-09-01 00:00:00 24.7\n",
      "2018-09-01 03:00:00 31\n",
      "2018-09-01 06:00:00 33.62\n",
      "2018-09-01 09:00:00 33.19\n",
      "2018-09-01 12:00:00 30.78\n",
      "2018-09-01 15:00:00 28.05\n",
      "2018-09-01 18:00:00 25.44\n",
      "2018-09-01 21:00:00 24.15\n",
      "2018-09-02 00:00:00 25.27\n",
      "2018-09-02 03:00:00 32.35\n",
      "2018-09-02 06:00:00 34.75\n",
      "2018-09-02 09:00:00 33.04\n",
      "2018-09-02 12:00:00 31.32\n",
      "2018-09-02 15:00:00 28.83\n",
      "2018-09-02 18:00:00 26.95\n",
      "2018-09-02 21:00:00 25.55\n",
      "2018-09-03 00:00:00 26.16\n",
      "2018-09-03 03:00:00 32.78\n",
      "2018-09-03 06:00:00 35.44\n",
      "2018-09-03 09:00:00 27.25\n",
      "2018-09-03 12:00:00 27.41\n",
      "2018-09-03 15:00:00 26.65\n",
      "2018-09-03 18:00:00 25.71\n",
      "2018-09-03 21:00:00 24.74\n",
      "2018-09-04 00:00:00 25.71\n",
      "2018-09-04 03:00:00 30.61\n",
      "2018-09-04 06:00:00 33.57\n",
      "2018-09-04 09:00:00 33.47\n",
      "2018-09-04 12:00:00 30.69\n"
     ]
    }
   ],
   "source": [
    "from datetime import datetime\n",
    "\n",
    "dict_ret=dict(ret.json())\n",
    "print(dict_ret.keys())\n",
    "print(dict_ret['city'])\n",
    "for item in dict_ret['list']:\n",
    "  print(item['dt_txt'],item['main']['temp'])"
   ]
  },
  {
   "cell_type": "markdown",
   "metadata": {
    "colab_type": "text",
    "id": "zMjWdeUrHhLT"
   },
   "source": [
    "# 12 September 2019"
   ]
  },
  {
   "cell_type": "markdown",
   "metadata": {
    "colab_type": "text",
    "id": "fQaiWRBZl48f"
   },
   "source": [
    "## ***pandas***\n",
    "\n",
    "pandas is a very useful library for data science. We can read data from excel, write to excel, plot graph, etc."
   ]
  },
  {
   "cell_type": "code",
   "execution_count": 0,
   "metadata": {
    "colab": {},
    "colab_type": "code",
    "id": "VzZrS9lxl4Bx"
   },
   "outputs": [],
   "source": [
    "from datetime import datetime\n",
    "import pandas as pd\n",
    "\n",
    "df=pd.DataFrame()\n",
    "\n",
    "dict_ret=dict(ret.json())\n",
    "for item in dict_ret['list']:\n",
    "  if '3h' in item['rain']:\n",
    "    rain = item['rain']['3h']\n",
    "  else:\n",
    "    rain = 0\n",
    "  rec={'dt':datetime.utcfromtimestamp(item['dt']),'temp':item['main']['temp'],'rain':rain}\n",
    "  df=df.append(rec,ignore_index=True)\n",
    "df"
   ]
  },
  {
   "cell_type": "code",
   "execution_count": 0,
   "metadata": {
    "colab": {
     "base_uri": "https://localhost:8080/",
     "height": 401
    },
    "colab_type": "code",
    "executionInfo": {
     "elapsed": 1135,
     "status": "ok",
     "timestamp": 1535592412507,
     "user": {
      "displayName": "Sukree Sinthupinyo",
      "photoUrl": "//lh6.googleusercontent.com/-eowOIZTAv8A/AAAAAAAAAAI/AAAAAAAAAAA/_EJqrk9YaZc/s50-c-k-no/photo.jpg",
      "userId": "117480694475238210687"
     },
     "user_tz": -420
    },
    "id": "QNrTS27lnEYl",
    "outputId": "65f1bb5f-7fc1-4e5b-e3e2-ebc352bc8c2b"
   },
   "outputs": [
    {
     "data": {
      "text/plain": [
       "<matplotlib.axes._subplots.AxesSubplot at 0x7f8b2861bf60>"
      ]
     },
     "execution_count": 14,
     "metadata": {
      "tags": []
     },
     "output_type": "execute_result"
    },
    {
     "data": {
      "image/png": "[encoded data removed]",
      "text/plain": [
       "<matplotlib.figure.Figure at 0x7f8b2b11ae10>"
      ]
     },
     "metadata": {
      "tags": []
     },
     "output_type": "display_data"
    }
   ],
   "source": [
    "df.index = df['dt']\n",
    "df=df.drop('dt',axis=1)\n",
    "df['temp'].plot(kind='line')"
   ]
  },
  {
   "cell_type": "code",
   "execution_count": 0,
   "metadata": {
    "colab": {
     "base_uri": "https://localhost:8080/",
     "height": 401
    },
    "colab_type": "code",
    "executionInfo": {
     "elapsed": 827,
     "status": "ok",
     "timestamp": 1535592417034,
     "user": {
      "displayName": "Sukree Sinthupinyo",
      "photoUrl": "//lh6.googleusercontent.com/-eowOIZTAv8A/AAAAAAAAAAI/AAAAAAAAAAA/_EJqrk9YaZc/s50-c-k-no/photo.jpg",
      "userId": "117480694475238210687"
     },
     "user_tz": -420
    },
    "id": "X_IySdhUbAg4",
    "outputId": "725c3b1e-e25d-4504-e598-356c5bc39907"
   },
   "outputs": [
    {
     "data": {
      "text/plain": [
       "<matplotlib.axes._subplots.AxesSubplot at 0x7f8b2b66f0f0>"
      ]
     },
     "execution_count": 15,
     "metadata": {
      "tags": []
     },
     "output_type": "execute_result"
    },
    {
     "data": {
      "image/png": "[encoded data removed]",
      "text/plain": [
       "<matplotlib.figure.Figure at 0x7f8b285e34a8>"
      ]
     },
     "metadata": {
      "tags": []
     },
     "output_type": "display_data"
    }
   ],
   "source": [
    "df['rain'].plot(kind='line')"
   ]
  },
  {
   "cell_type": "markdown",
   "metadata": {
    "colab_type": "text",
    "id": "ABXu6SB6fX2V"
   },
   "source": [
    "# 19 September 2019"
   ]
  },
  {
   "cell_type": "markdown",
   "metadata": {
    "colab_type": "text",
    "id": "aYWI73FaHrfw"
   },
   "source": [
    "## Seaborn"
   ]
  },
  {
   "cell_type": "code",
   "execution_count": 2,
   "metadata": {
    "colab": {
     "base_uri": "https://localhost:8080/",
     "height": 116,
     "resources": {
      "http://localhost:8080/nbextensions/google.colab/files.js": {
       "data": "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",
       "headers": [
        [
         "content-type",
         "application/javascript"
        ]
       ],
       "ok": true,
       "status": 200,
       "status_text": ""
      }
     }
    },
    "colab_type": "code",
    "executionInfo": {
     "elapsed": 16387,
     "status": "ok",
     "timestamp": 1568864060601,
     "user": {
      "displayName": "Khanatat Thangwatthanarat",
      "photoUrl": "",
      "userId": "01961641283765841814"
     },
     "user_tz": -420
    },
    "id": "am7YTwvNlTtl",
    "outputId": "c73e83fd-ce29-445b-eefc-4d5be297a56c"
   },
   "outputs": [
    {
     "data": {
      "text/html": [
       "\n",
       "     <input type=\"file\" id=\"files-a6411355-b413-47f4-9e38-57062d14b189\" name=\"files[]\" multiple disabled />\n",
       "     <output id=\"result-a6411355-b413-47f4-9e38-57062d14b189\">\n",
       "      Upload widget is only available when the cell has been executed in the\n",
       "      current browser session. Please rerun this cell to enable.\n",
       "      </output>\n",
       "      <script src=\"/nbextensions/google.colab/files.js\"></script> "
      ],
      "text/plain": [
       "<IPython.core.display.HTML object>"
      ]
     },
     "metadata": {
      "tags": []
     },
     "output_type": "display_data"
    },
    {
     "name": "stdout",
     "output_type": "stream",
     "text": [
      "Saving train.csv to train.csv\n"
     ]
    },
    {
     "data": {
      "text/plain": [
       "{'train.csv': b'PassengerId,Survived,Pclass,Name,Sex,Age,SibSp,Parch,Ticket,Fare,Cabin,Embarked\\r\\n1,0,3,\"Braund, Mr. Owen Harris\",male,22,1,0,A/5 21171,7.25,,S\\r\\n2,1,1,\"Cumings, Mrs. John Bradley (Florence Briggs Thayer)\",female,38,1,0,PC 17599,71.2833,C85,C\\r\\n3,1,3,\"Heikkinen, Miss. Laina\",female,26,0,0,STON/O2. 3101282,7.925,,S\\r\\n4,1,1,\"Futrelle, Mrs. Jacques Heath (Lily May Peel)\",female,35,1,0,113803,53.1,C123,S\\r\\n5,0,3,\"Allen, Mr. William Henry\",male,35,0,0,373450,8.05,,S\\r\\n6,0,3,\"Moran, Mr. James\",male,,0,0,330877,8.4583,,Q\\r\\n7,0,1,\"McCarthy, Mr. Timothy J\",male,54,0,0,17463,51.8625,E46,S\\r\\n8,0,3,\"Palsson, Master. Gosta Leonard\",male,2,3,1,349909,21.075,,S\\r\\n9,1,3,\"Johnson, Mrs. Oscar W (Elisabeth Vilhelmina Berg)\",female,27,0,2,347742,11.1333,,S\\r\\n10,1,2,\"Nasser, Mrs. Nicholas (Adele Achem)\",female,14,1,0,237736,30.0708,,C\\r\\n11,1,3,\"Sandstrom, Miss. Marguerite Rut\",female,4,1,1,PP 9549,16.7,G6,S\\r\\n12,1,1,\"Bonnell, Miss. Elizabeth\",female,58,0,0,113783,26.55,C103,S\\r\\n13,0,3,\"Saundercock, Mr. William Henry\",male,20,0,0,A/5. 2151,8.05,,S\\r\\n14,0,3,\"Andersson, Mr. Anders Johan\",male,39,1,5,347082,31.275,,S\\r\\n15,0,3,\"Vestrom, Miss. Hulda Amanda Adolfina\",female,14,0,0,350406,7.8542,,S\\r\\n16,1,2,\"Hewlett, Mrs. (Mary D Kingcome) \",female,55,0,0,248706,16,,S\\r\\n17,0,3,\"Rice, Master. Eugene\",male,2,4,1,382652,29.125,,Q\\r\\n18,1,2,\"Williams, Mr. Charles Eugene\",male,,0,0,244373,13,,S\\r\\n19,0,3,\"Vander Planke, Mrs. Julius (Emelia Maria Vandemoortele)\",female,31,1,0,345763,18,,S\\r\\n20,1,3,\"Masselmani, Mrs. Fatima\",female,,0,0,2649,7.225,,C\\r\\n21,0,2,\"Fynney, Mr. Joseph J\",male,35,0,0,239865,26,,S\\r\\n22,1,2,\"Beesley, Mr. Lawrence\",male,34,0,0,248698,13,D56,S\\r\\n23,1,3,\"McGowan, Miss. Anna \"\"Annie\"\"\",female,15,0,0,330923,8.0292,,Q\\r\\n24,1,1,\"Sloper, Mr. William Thompson\",male,28,0,0,113788,35.5,A6,S\\r\\n25,0,3,\"Palsson, Miss. Torborg Danira\",female,8,3,1,349909,21.075,,S\\r\\n26,1,3,\"Asplund, Mrs. Carl Oscar (Selma Augusta Emilia Johansson)\",female,38,1,5,347077,31.3875,,S\\r\\n27,0,3,\"Emir, Mr. Farred Chehab\",male,,0,0,2631,7.225,,C\\r\\n28,0,1,\"Fortune, Mr. Charles Alexander\",male,19,3,2,19950,263,C23 C25 C27,S\\r\\n29,1,3,\"O\\'Dwyer, Miss. Ellen \"\"Nellie\"\"\",female,,0,0,330959,7.8792,,Q\\r\\n30,0,3,\"Todoroff, Mr. Lalio\",male,,0,0,349216,7.8958,,S\\r\\n31,0,1,\"Uruchurtu, Don. Manuel E\",male,40,0,0,PC 17601,27.7208,,C\\r\\n32,1,1,\"Spencer, Mrs. William Augustus (Marie Eugenie)\",female,,1,0,PC 17569,146.5208,B78,C\\r\\n33,1,3,\"Glynn, Miss. Mary Agatha\",female,,0,0,335677,7.75,,Q\\r\\n34,0,2,\"Wheadon, Mr. Edward H\",male,66,0,0,C.A. 24579,10.5,,S\\r\\n35,0,1,\"Meyer, Mr. Edgar Joseph\",male,28,1,0,PC 17604,82.1708,,C\\r\\n36,0,1,\"Holverson, Mr. Alexander Oskar\",male,42,1,0,113789,52,,S\\r\\n37,1,3,\"Mamee, Mr. Hanna\",male,,0,0,2677,7.2292,,C\\r\\n38,0,3,\"Cann, Mr. Ernest Charles\",male,21,0,0,A./5. 2152,8.05,,S\\r\\n39,0,3,\"Vander Planke, Miss. Augusta Maria\",female,18,2,0,345764,18,,S\\r\\n40,1,3,\"Nicola-Yarred, Miss. Jamila\",female,14,1,0,2651,11.2417,,C\\r\\n41,0,3,\"Ahlin, Mrs. Johan (Johanna Persdotter Larsson)\",female,40,1,0,7546,9.475,,S\\r\\n42,0,2,\"Turpin, Mrs. William John Robert (Dorothy Ann Wonnacott)\",female,27,1,0,11668,21,,S\\r\\n43,0,3,\"Kraeff, Mr. Theodor\",male,,0,0,349253,7.8958,,C\\r\\n44,1,2,\"Laroche, Miss. Simonne Marie Anne Andree\",female,3,1,2,SC/Paris 2123,41.5792,,C\\r\\n45,1,3,\"Devaney, Miss. Margaret Delia\",female,19,0,0,330958,7.8792,,Q\\r\\n46,0,3,\"Rogers, Mr. William John\",male,,0,0,S.C./A.4. 23567,8.05,,S\\r\\n47,0,3,\"Lennon, Mr. Denis\",male,,1,0,370371,15.5,,Q\\r\\n48,1,3,\"O\\'Driscoll, Miss. Bridget\",female,,0,0,14311,7.75,,Q\\r\\n49,0,3,\"Samaan, Mr. Youssef\",male,,2,0,2662,21.6792,,C\\r\\n50,0,3,\"Arnold-Franchi, Mrs. Josef (Josefine Franchi)\",female,18,1,0,349237,17.8,,S\\r\\n51,0,3,\"Panula, Master. Juha Niilo\",male,7,4,1,3101295,39.6875,,S\\r\\n52,0,3,\"Nosworthy, Mr. Richard Cater\",male,21,0,0,A/4. 39886,7.8,,S\\r\\n53,1,1,\"Harper, Mrs. Henry Sleeper (Myna Haxtun)\",female,49,1,0,PC 17572,76.7292,D33,C\\r\\n54,1,2,\"Faunthorpe, Mrs. Lizzie (Elizabeth Anne Wilkinson)\",female,29,1,0,2926,26,,S\\r\\n55,0,1,\"Ostby, Mr. Engelhart Cornelius\",male,65,0,1,113509,61.9792,B30,C\\r\\n56,1,1,\"Woolner, Mr. Hugh\",male,,0,0,19947,35.5,C52,S\\r\\n57,1,2,\"Rugg, Miss. Emily\",female,21,0,0,C.A. 31026,10.5,,S\\r\\n58,0,3,\"Novel, Mr. Mansouer\",male,28.5,0,0,2697,7.2292,,C\\r\\n59,1,2,\"West, Miss. Constance Mirium\",female,5,1,2,C.A. 34651,27.75,,S\\r\\n60,0,3,\"Goodwin, Master. William Frederick\",male,11,5,2,CA 2144,46.9,,S\\r\\n61,0,3,\"Sirayanian, Mr. Orsen\",male,22,0,0,2669,7.2292,,C\\r\\n62,1,1,\"Icard, Miss. Amelie\",female,38,0,0,113572,80,B28,\\r\\n63,0,1,\"Harris, Mr. Henry Birkhardt\",male,45,1,0,36973,83.475,C83,S\\r\\n64,0,3,\"Skoog, Master. Harald\",male,4,3,2,347088,27.9,,S\\r\\n65,0,1,\"Stewart, Mr. Albert A\",male,,0,0,PC 17605,27.7208,,C\\r\\n66,1,3,\"Moubarek, Master. Gerios\",male,,1,1,2661,15.2458,,C\\r\\n67,1,2,\"Nye, Mrs. (Elizabeth Ramell)\",female,29,0,0,C.A. 29395,10.5,F33,S\\r\\n68,0,3,\"Crease, Mr. Ernest James\",male,19,0,0,S.P. 3464,8.1583,,S\\r\\n69,1,3,\"Andersson, Miss. Erna Alexandra\",female,17,4,2,3101281,7.925,,S\\r\\n70,0,3,\"Kink, Mr. Vincenz\",male,26,2,0,315151,8.6625,,S\\r\\n71,0,2,\"Jenkin, Mr. Stephen Curnow\",male,32,0,0,C.A. 33111,10.5,,S\\r\\n72,0,3,\"Goodwin, Miss. Lillian Amy\",female,16,5,2,CA 2144,46.9,,S\\r\\n73,0,2,\"Hood, Mr. Ambrose Jr\",male,21,0,0,S.O.C. 14879,73.5,,S\\r\\n74,0,3,\"Chronopoulos, Mr. Apostolos\",male,26,1,0,2680,14.4542,,C\\r\\n75,1,3,\"Bing, Mr. Lee\",male,32,0,0,1601,56.4958,,S\\r\\n76,0,3,\"Moen, Mr. Sigurd Hansen\",male,25,0,0,348123,7.65,F G73,S\\r\\n77,0,3,\"Staneff, Mr. Ivan\",male,,0,0,349208,7.8958,,S\\r\\n78,0,3,\"Moutal, Mr. Rahamin Haim\",male,,0,0,374746,8.05,,S\\r\\n79,1,2,\"Caldwell, Master. Alden Gates\",male,0.83,0,2,248738,29,,S\\r\\n80,1,3,\"Dowdell, Miss. Elizabeth\",female,30,0,0,364516,12.475,,S\\r\\n81,0,3,\"Waelens, Mr. Achille\",male,22,0,0,345767,9,,S\\r\\n82,1,3,\"Sheerlinck, Mr. Jan Baptist\",male,29,0,0,345779,9.5,,S\\r\\n83,1,3,\"McDermott, Miss. Brigdet Delia\",female,,0,0,330932,7.7875,,Q\\r\\n84,0,1,\"Carrau, Mr. Francisco M\",male,28,0,0,113059,47.1,,S\\r\\n85,1,2,\"Ilett, Miss. Bertha\",female,17,0,0,SO/C 14885,10.5,,S\\r\\n86,1,3,\"Backstrom, Mrs. Karl Alfred (Maria Mathilda Gustafsson)\",female,33,3,0,3101278,15.85,,S\\r\\n87,0,3,\"Ford, Mr. William Neal\",male,16,1,3,W./C. 6608,34.375,,S\\r\\n88,0,3,\"Slocovski, Mr. Selman Francis\",male,,0,0,SOTON/OQ 392086,8.05,,S\\r\\n89,1,1,\"Fortune, Miss. Mabel Helen\",female,23,3,2,19950,263,C23 C25 C27,S\\r\\n90,0,3,\"Celotti, Mr. Francesco\",male,24,0,0,343275,8.05,,S\\r\\n91,0,3,\"Christmann, Mr. Emil\",male,29,0,0,343276,8.05,,S\\r\\n92,0,3,\"Andreasson, Mr. Paul Edvin\",male,20,0,0,347466,7.8542,,S\\r\\n93,0,1,\"Chaffee, Mr. Herbert Fuller\",male,46,1,0,W.E.P. 5734,61.175,E31,S\\r\\n94,0,3,\"Dean, Mr. Bertram Frank\",male,26,1,2,C.A. 2315,20.575,,S\\r\\n95,0,3,\"Coxon, Mr. Daniel\",male,59,0,0,364500,7.25,,S\\r\\n96,0,3,\"Shorney, Mr. Charles Joseph\",male,,0,0,374910,8.05,,S\\r\\n97,0,1,\"Goldschmidt, Mr. George B\",male,71,0,0,PC 17754,34.6542,A5,C\\r\\n98,1,1,\"Greenfield, Mr. William Bertram\",male,23,0,1,PC 17759,63.3583,D10 D12,C\\r\\n99,1,2,\"Doling, Mrs. John T (Ada Julia Bone)\",female,34,0,1,231919,23,,S\\r\\n100,0,2,\"Kantor, Mr. Sinai\",male,34,1,0,244367,26,,S\\r\\n101,0,3,\"Petranec, Miss. Matilda\",female,28,0,0,349245,7.8958,,S\\r\\n102,0,3,\"Petroff, Mr. Pastcho (\"\"Pentcho\"\")\",male,,0,0,349215,7.8958,,S\\r\\n103,0,1,\"White, Mr. Richard Frasar\",male,21,0,1,35281,77.2875,D26,S\\r\\n104,0,3,\"Johansson, Mr. Gustaf Joel\",male,33,0,0,7540,8.6542,,S\\r\\n105,0,3,\"Gustafsson, Mr. Anders Vilhelm\",male,37,2,0,3101276,7.925,,S\\r\\n106,0,3,\"Mionoff, Mr. Stoytcho\",male,28,0,0,349207,7.8958,,S\\r\\n107,1,3,\"Salkjelsvik, Miss. Anna Kristine\",female,21,0,0,343120,7.65,,S\\r\\n108,1,3,\"Moss, Mr. Albert Johan\",male,,0,0,312991,7.775,,S\\r\\n109,0,3,\"Rekic, Mr. Tido\",male,38,0,0,349249,7.8958,,S\\r\\n110,1,3,\"Moran, Miss. Bertha\",female,,1,0,371110,24.15,,Q\\r\\n111,0,1,\"Porter, Mr. Walter Chamberlain\",male,47,0,0,110465,52,C110,S\\r\\n112,0,3,\"Zabour, Miss. Hileni\",female,14.5,1,0,2665,14.4542,,C\\r\\n113,0,3,\"Barton, Mr. David John\",male,22,0,0,324669,8.05,,S\\r\\n114,0,3,\"Jussila, Miss. Katriina\",female,20,1,0,4136,9.825,,S\\r\\n115,0,3,\"Attalah, Miss. Malake\",female,17,0,0,2627,14.4583,,C\\r\\n116,0,3,\"Pekoniemi, Mr. Edvard\",male,21,0,0,STON/O 2. 3101294,7.925,,S\\r\\n117,0,3,\"Connors, Mr. Patrick\",male,70.5,0,0,370369,7.75,,Q\\r\\n118,0,2,\"Turpin, Mr. William John Robert\",male,29,1,0,11668,21,,S\\r\\n119,0,1,\"Baxter, Mr. Quigg Edmond\",male,24,0,1,PC 17558,247.5208,B58 B60,C\\r\\n120,0,3,\"Andersson, Miss. Ellis Anna Maria\",female,2,4,2,347082,31.275,,S\\r\\n121,0,2,\"Hickman, Mr. Stanley George\",male,21,2,0,S.O.C. 14879,73.5,,S\\r\\n122,0,3,\"Moore, Mr. Leonard Charles\",male,,0,0,A4. 54510,8.05,,S\\r\\n123,0,2,\"Nasser, Mr. Nicholas\",male,32.5,1,0,237736,30.0708,,C\\r\\n124,1,2,\"Webber, Miss. Susan\",female,32.5,0,0,27267,13,E101,S\\r\\n125,0,1,\"White, Mr. Percival Wayland\",male,54,0,1,35281,77.2875,D26,S\\r\\n126,1,3,\"Nicola-Yarred, Master. Elias\",male,12,1,0,2651,11.2417,,C\\r\\n127,0,3,\"McMahon, Mr. Martin\",male,,0,0,370372,7.75,,Q\\r\\n128,1,3,\"Madsen, Mr. Fridtjof Arne\",male,24,0,0,C 17369,7.1417,,S\\r\\n129,1,3,\"Peter, Miss. Anna\",female,,1,1,2668,22.3583,F E69,C\\r\\n130,0,3,\"Ekstrom, Mr. Johan\",male,45,0,0,347061,6.975,,S\\r\\n131,0,3,\"Drazenoic, Mr. Jozef\",male,33,0,0,349241,7.8958,,C\\r\\n132,0,3,\"Coelho, Mr. Domingos Fernandeo\",male,20,0,0,SOTON/O.Q. 3101307,7.05,,S\\r\\n133,0,3,\"Robins, Mrs. Alexander A (Grace Charity Laury)\",female,47,1,0,A/5. 3337,14.5,,S\\r\\n134,1,2,\"Weisz, Mrs. Leopold (Mathilde Francoise Pede)\",female,29,1,0,228414,26,,S\\r\\n135,0,2,\"Sobey, Mr. Samuel James Hayden\",male,25,0,0,C.A. 29178,13,,S\\r\\n136,0,2,\"Richard, Mr. Emile\",male,23,0,0,SC/PARIS 2133,15.0458,,C\\r\\n137,1,1,\"Newsom, Miss. Helen Monypeny\",female,19,0,2,11752,26.2833,D47,S\\r\\n138,0,1,\"Futrelle, Mr. Jacques Heath\",male,37,1,0,113803,53.1,C123,S\\r\\n139,0,3,\"Osen, Mr. Olaf Elon\",male,16,0,0,7534,9.2167,,S\\r\\n140,0,1,\"Giglio, Mr. Victor\",male,24,0,0,PC 17593,79.2,B86,C\\r\\n141,0,3,\"Boulos, Mrs. Joseph (Sultana)\",female,,0,2,2678,15.2458,,C\\r\\n142,1,3,\"Nysten, Miss. Anna Sofia\",female,22,0,0,347081,7.75,,S\\r\\n143,1,3,\"Hakkarainen, Mrs. Pekka Pietari (Elin Matilda Dolck)\",female,24,1,0,STON/O2. 3101279,15.85,,S\\r\\n144,0,3,\"Burke, Mr. Jeremiah\",male,19,0,0,365222,6.75,,Q\\r\\n145,0,2,\"Andrew, Mr. Edgardo Samuel\",male,18,0,0,231945,11.5,,S\\r\\n146,0,2,\"Nicholls, Mr. Joseph Charles\",male,19,1,1,C.A. 33112,36.75,,S\\r\\n147,1,3,\"Andersson, Mr. August Edvard (\"\"Wennerstrom\"\")\",male,27,0,0,350043,7.7958,,S\\r\\n148,0,3,\"Ford, Miss. Robina Maggie \"\"Ruby\"\"\",female,9,2,2,W./C. 6608,34.375,,S\\r\\n149,0,2,\"Navratil, Mr. Michel (\"\"Louis M Hoffman\"\")\",male,36.5,0,2,230080,26,F2,S\\r\\n150,0,2,\"Byles, Rev. Thomas Roussel Davids\",male,42,0,0,244310,13,,S\\r\\n151,0,2,\"Bateman, Rev. Robert James\",male,51,0,0,S.O.P. 1166,12.525,,S\\r\\n152,1,1,\"Pears, Mrs. Thomas (Edith Wearne)\",female,22,1,0,113776,66.6,C2,S\\r\\n153,0,3,\"Meo, Mr. Alfonzo\",male,55.5,0,0,A.5. 11206,8.05,,S\\r\\n154,0,3,\"van Billiard, Mr. Austin Blyler\",male,40.5,0,2,A/5. 851,14.5,,S\\r\\n155,0,3,\"Olsen, Mr. Ole Martin\",male,,0,0,Fa 265302,7.3125,,S\\r\\n156,0,1,\"Williams, Mr. Charles Duane\",male,51,0,1,PC 17597,61.3792,,C\\r\\n157,1,3,\"Gilnagh, Miss. Katherine \"\"Katie\"\"\",female,16,0,0,35851,7.7333,,Q\\r\\n158,0,3,\"Corn, Mr. Harry\",male,30,0,0,SOTON/OQ 392090,8.05,,S\\r\\n159,0,3,\"Smiljanic, Mr. Mile\",male,,0,0,315037,8.6625,,S\\r\\n160,0,3,\"Sage, Master. Thomas Henry\",male,,8,2,CA. 2343,69.55,,S\\r\\n161,0,3,\"Cribb, Mr. John Hatfield\",male,44,0,1,371362,16.1,,S\\r\\n162,1,2,\"Watt, Mrs. James (Elizabeth \"\"Bessie\"\" Inglis Milne)\",female,40,0,0,C.A. 33595,15.75,,S\\r\\n163,0,3,\"Bengtsson, Mr. John Viktor\",male,26,0,0,347068,7.775,,S\\r\\n164,0,3,\"Calic, Mr. Jovo\",male,17,0,0,315093,8.6625,,S\\r\\n165,0,3,\"Panula, Master. Eino Viljami\",male,1,4,1,3101295,39.6875,,S\\r\\n166,1,3,\"Goldsmith, Master. Frank John William \"\"Frankie\"\"\",male,9,0,2,363291,20.525,,S\\r\\n167,1,1,\"Chibnall, Mrs. (Edith Martha Bowerman)\",female,,0,1,113505,55,E33,S\\r\\n168,0,3,\"Skoog, Mrs. William (Anna Bernhardina Karlsson)\",female,45,1,4,347088,27.9,,S\\r\\n169,0,1,\"Baumann, Mr. John D\",male,,0,0,PC 17318,25.925,,S\\r\\n170,0,3,\"Ling, Mr. Lee\",male,28,0,0,1601,56.4958,,S\\r\\n171,0,1,\"Van der hoef, Mr. Wyckoff\",male,61,0,0,111240,33.5,B19,S\\r\\n172,0,3,\"Rice, Master. Arthur\",male,4,4,1,382652,29.125,,Q\\r\\n173,1,3,\"Johnson, Miss. Eleanor Ileen\",female,1,1,1,347742,11.1333,,S\\r\\n174,0,3,\"Sivola, Mr. Antti Wilhelm\",male,21,0,0,STON/O 2. 3101280,7.925,,S\\r\\n175,0,1,\"Smith, Mr. James Clinch\",male,56,0,0,17764,30.6958,A7,C\\r\\n176,0,3,\"Klasen, Mr. Klas Albin\",male,18,1,1,350404,7.8542,,S\\r\\n177,0,3,\"Lefebre, Master. Henry Forbes\",male,,3,1,4133,25.4667,,S\\r\\n178,0,1,\"Isham, Miss. Ann Elizabeth\",female,50,0,0,PC 17595,28.7125,C49,C\\r\\n179,0,2,\"Hale, Mr. Reginald\",male,30,0,0,250653,13,,S\\r\\n180,0,3,\"Leonard, Mr. Lionel\",male,36,0,0,LINE,0,,S\\r\\n181,0,3,\"Sage, Miss. Constance Gladys\",female,,8,2,CA. 2343,69.55,,S\\r\\n182,0,2,\"Pernot, Mr. Rene\",male,,0,0,SC/PARIS 2131,15.05,,C\\r\\n183,0,3,\"Asplund, Master. Clarence Gustaf Hugo\",male,9,4,2,347077,31.3875,,S\\r\\n184,1,2,\"Becker, Master. Richard F\",male,1,2,1,230136,39,F4,S\\r\\n185,1,3,\"Kink-Heilmann, Miss. Luise Gretchen\",female,4,0,2,315153,22.025,,S\\r\\n186,0,1,\"Rood, Mr. Hugh Roscoe\",male,,0,0,113767,50,A32,S\\r\\n187,1,3,\"O\\'Brien, Mrs. Thomas (Johanna \"\"Hannah\"\" Godfrey)\",female,,1,0,370365,15.5,,Q\\r\\n188,1,1,\"Romaine, Mr. Charles Hallace (\"\"Mr C Rolmane\"\")\",male,45,0,0,111428,26.55,,S\\r\\n189,0,3,\"Bourke, Mr. John\",male,40,1,1,364849,15.5,,Q\\r\\n190,0,3,\"Turcin, Mr. Stjepan\",male,36,0,0,349247,7.8958,,S\\r\\n191,1,2,\"Pinsky, Mrs. (Rosa)\",female,32,0,0,234604,13,,S\\r\\n192,0,2,\"Carbines, Mr. William\",male,19,0,0,28424,13,,S\\r\\n193,1,3,\"Andersen-Jensen, Miss. Carla Christine Nielsine\",female,19,1,0,350046,7.8542,,S\\r\\n194,1,2,\"Navratil, Master. Michel M\",male,3,1,1,230080,26,F2,S\\r\\n195,1,1,\"Brown, Mrs. James Joseph (Margaret Tobin)\",female,44,0,0,PC 17610,27.7208,B4,C\\r\\n196,1,1,\"Lurette, Miss. Elise\",female,58,0,0,PC 17569,146.5208,B80,C\\r\\n197,0,3,\"Mernagh, Mr. Robert\",male,,0,0,368703,7.75,,Q\\r\\n198,0,3,\"Olsen, Mr. Karl Siegwart Andreas\",male,42,0,1,4579,8.4042,,S\\r\\n199,1,3,\"Madigan, Miss. Margaret \"\"Maggie\"\"\",female,,0,0,370370,7.75,,Q\\r\\n200,0,2,\"Yrois, Miss. Henriette (\"\"Mrs Harbeck\"\")\",female,24,0,0,248747,13,,S\\r\\n201,0,3,\"Vande Walle, Mr. Nestor Cyriel\",male,28,0,0,345770,9.5,,S\\r\\n202,0,3,\"Sage, Mr. Frederick\",male,,8,2,CA. 2343,69.55,,S\\r\\n203,0,3,\"Johanson, Mr. Jakob Alfred\",male,34,0,0,3101264,6.4958,,S\\r\\n204,0,3,\"Youseff, Mr. Gerious\",male,45.5,0,0,2628,7.225,,C\\r\\n205,1,3,\"Cohen, Mr. Gurshon \"\"Gus\"\"\",male,18,0,0,A/5 3540,8.05,,S\\r\\n206,0,3,\"Strom, Miss. Telma Matilda\",female,2,0,1,347054,10.4625,G6,S\\r\\n207,0,3,\"Backstrom, Mr. Karl Alfred\",male,32,1,0,3101278,15.85,,S\\r\\n208,1,3,\"Albimona, Mr. Nassef Cassem\",male,26,0,0,2699,18.7875,,C\\r\\n209,1,3,\"Carr, Miss. Helen \"\"Ellen\"\"\",female,16,0,0,367231,7.75,,Q\\r\\n210,1,1,\"Blank, Mr. Henry\",male,40,0,0,112277,31,A31,C\\r\\n211,0,3,\"Ali, Mr. Ahmed\",male,24,0,0,SOTON/O.Q. 3101311,7.05,,S\\r\\n212,1,2,\"Cameron, Miss. Clear Annie\",female,35,0,0,F.C.C. 13528,21,,S\\r\\n213,0,3,\"Perkin, Mr. John Henry\",male,22,0,0,A/5 21174,7.25,,S\\r\\n214,0,2,\"Givard, Mr. Hans Kristensen\",male,30,0,0,250646,13,,S\\r\\n215,0,3,\"Kiernan, Mr. Philip\",male,,1,0,367229,7.75,,Q\\r\\n216,1,1,\"Newell, Miss. Madeleine\",female,31,1,0,35273,113.275,D36,C\\r\\n217,1,3,\"Honkanen, Miss. Eliina\",female,27,0,0,STON/O2. 3101283,7.925,,S\\r\\n218,0,2,\"Jacobsohn, Mr. Sidney Samuel\",male,42,1,0,243847,27,,S\\r\\n219,1,1,\"Bazzani, Miss. Albina\",female,32,0,0,11813,76.2917,D15,C\\r\\n220,0,2,\"Harris, Mr. Walter\",male,30,0,0,W/C 14208,10.5,,S\\r\\n221,1,3,\"Sunderland, Mr. Victor Francis\",male,16,0,0,SOTON/OQ 392089,8.05,,S\\r\\n222,0,2,\"Bracken, Mr. James H\",male,27,0,0,220367,13,,S\\r\\n223,0,3,\"Green, Mr. George Henry\",male,51,0,0,21440,8.05,,S\\r\\n224,0,3,\"Nenkoff, Mr. Christo\",male,,0,0,349234,7.8958,,S\\r\\n225,1,1,\"Hoyt, Mr. Frederick Maxfield\",male,38,1,0,19943,90,C93,S\\r\\n226,0,3,\"Berglund, Mr. Karl Ivar Sven\",male,22,0,0,PP 4348,9.35,,S\\r\\n227,1,2,\"Mellors, Mr. William John\",male,19,0,0,SW/PP 751,10.5,,S\\r\\n228,0,3,\"Lovell, Mr. John Hall (\"\"Henry\"\")\",male,20.5,0,0,A/5 21173,7.25,,S\\r\\n229,0,2,\"Fahlstrom, Mr. Arne Jonas\",male,18,0,0,236171,13,,S\\r\\n230,0,3,\"Lefebre, Miss. Mathilde\",female,,3,1,4133,25.4667,,S\\r\\n231,1,1,\"Harris, Mrs. Henry Birkhardt (Irene Wallach)\",female,35,1,0,36973,83.475,C83,S\\r\\n232,0,3,\"Larsson, Mr. Bengt Edvin\",male,29,0,0,347067,7.775,,S\\r\\n233,0,2,\"Sjostedt, Mr. Ernst Adolf\",male,59,0,0,237442,13.5,,S\\r\\n234,1,3,\"Asplund, Miss. Lillian Gertrud\",female,5,4,2,347077,31.3875,,S\\r\\n235,0,2,\"Leyson, Mr. Robert William Norman\",male,24,0,0,C.A. 29566,10.5,,S\\r\\n236,0,3,\"Harknett, Miss. Alice Phoebe\",female,,0,0,W./C. 6609,7.55,,S\\r\\n237,0,2,\"Hold, Mr. Stephen\",male,44,1,0,26707,26,,S\\r\\n238,1,2,\"Collyer, Miss. Marjorie \"\"Lottie\"\"\",female,8,0,2,C.A. 31921,26.25,,S\\r\\n239,0,2,\"Pengelly, Mr. Frederick William\",male,19,0,0,28665,10.5,,S\\r\\n240,0,2,\"Hunt, Mr. George Henry\",male,33,0,0,SCO/W 1585,12.275,,S\\r\\n241,0,3,\"Zabour, Miss. Thamine\",female,,1,0,2665,14.4542,,C\\r\\n242,1,3,\"Murphy, Miss. Katherine \"\"Kate\"\"\",female,,1,0,367230,15.5,,Q\\r\\n243,0,2,\"Coleridge, Mr. Reginald Charles\",male,29,0,0,W./C. 14263,10.5,,S\\r\\n244,0,3,\"Maenpaa, Mr. Matti Alexanteri\",male,22,0,0,STON/O 2. 3101275,7.125,,S\\r\\n245,0,3,\"Attalah, Mr. Sleiman\",male,30,0,0,2694,7.225,,C\\r\\n246,0,1,\"Minahan, Dr. William Edward\",male,44,2,0,19928,90,C78,Q\\r\\n247,0,3,\"Lindahl, Miss. Agda Thorilda Viktoria\",female,25,0,0,347071,7.775,,S\\r\\n248,1,2,\"Hamalainen, Mrs. William (Anna)\",female,24,0,2,250649,14.5,,S\\r\\n249,1,1,\"Beckwith, Mr. Richard Leonard\",male,37,1,1,11751,52.5542,D35,S\\r\\n250,0,2,\"Carter, Rev. Ernest Courtenay\",male,54,1,0,244252,26,,S\\r\\n251,0,3,\"Reed, Mr. James George\",male,,0,0,362316,7.25,,S\\r\\n252,0,3,\"Strom, Mrs. Wilhelm (Elna Matilda Persson)\",female,29,1,1,347054,10.4625,G6,S\\r\\n253,0,1,\"Stead, Mr. William Thomas\",male,62,0,0,113514,26.55,C87,S\\r\\n254,0,3,\"Lobb, Mr. William Arthur\",male,30,1,0,A/5. 3336,16.1,,S\\r\\n255,0,3,\"Rosblom, Mrs. Viktor (Helena Wilhelmina)\",female,41,0,2,370129,20.2125,,S\\r\\n256,1,3,\"Touma, Mrs. Darwis (Hanne Youssef Razi)\",female,29,0,2,2650,15.2458,,C\\r\\n257,1,1,\"Thorne, Mrs. Gertrude Maybelle\",female,,0,0,PC 17585,79.2,,C\\r\\n258,1,1,\"Cherry, Miss. Gladys\",female,30,0,0,110152,86.5,B77,S\\r\\n259,1,1,\"Ward, Miss. Anna\",female,35,0,0,PC 17755,512.3292,,C\\r\\n260,1,2,\"Parrish, Mrs. (Lutie Davis)\",female,50,0,1,230433,26,,S\\r\\n261,0,3,\"Smith, Mr. Thomas\",male,,0,0,384461,7.75,,Q\\r\\n262,1,3,\"Asplund, Master. Edvin Rojj Felix\",male,3,4,2,347077,31.3875,,S\\r\\n263,0,1,\"Taussig, Mr. Emil\",male,52,1,1,110413,79.65,E67,S\\r\\n264,0,1,\"Harrison, Mr. William\",male,40,0,0,112059,0,B94,S\\r\\n265,0,3,\"Henry, Miss. Delia\",female,,0,0,382649,7.75,,Q\\r\\n266,0,2,\"Reeves, Mr. David\",male,36,0,0,C.A. 17248,10.5,,S\\r\\n267,0,3,\"Panula, Mr. Ernesti Arvid\",male,16,4,1,3101295,39.6875,,S\\r\\n268,1,3,\"Persson, Mr. Ernst Ulrik\",male,25,1,0,347083,7.775,,S\\r\\n269,1,1,\"Graham, Mrs. William Thompson (Edith Junkins)\",female,58,0,1,PC 17582,153.4625,C125,S\\r\\n270,1,1,\"Bissette, Miss. Amelia\",female,35,0,0,PC 17760,135.6333,C99,S\\r\\n271,0,1,\"Cairns, Mr. Alexander\",male,,0,0,113798,31,,S\\r\\n272,1,3,\"Tornquist, Mr. William Henry\",male,25,0,0,LINE,0,,S\\r\\n273,1,2,\"Mellinger, Mrs. (Elizabeth Anne Maidment)\",female,41,0,1,250644,19.5,,S\\r\\n274,0,1,\"Natsch, Mr. Charles H\",male,37,0,1,PC 17596,29.7,C118,C\\r\\n275,1,3,\"Healy, Miss. Hanora \"\"Nora\"\"\",female,,0,0,370375,7.75,,Q\\r\\n276,1,1,\"Andrews, Miss. Kornelia Theodosia\",female,63,1,0,13502,77.9583,D7,S\\r\\n277,0,3,\"Lindblom, Miss. Augusta Charlotta\",female,45,0,0,347073,7.75,,S\\r\\n278,0,2,\"Parkes, Mr. Francis \"\"Frank\"\"\",male,,0,0,239853,0,,S\\r\\n279,0,3,\"Rice, Master. Eric\",male,7,4,1,382652,29.125,,Q\\r\\n280,1,3,\"Abbott, Mrs. Stanton (Rosa Hunt)\",female,35,1,1,C.A. 2673,20.25,,S\\r\\n281,0,3,\"Duane, Mr. Frank\",male,65,0,0,336439,7.75,,Q\\r\\n282,0,3,\"Olsson, Mr. Nils Johan Goransson\",male,28,0,0,347464,7.8542,,S\\r\\n283,0,3,\"de Pelsmaeker, Mr. Alfons\",male,16,0,0,345778,9.5,,S\\r\\n284,1,3,\"Dorking, Mr. Edward Arthur\",male,19,0,0,A/5. 10482,8.05,,S\\r\\n285,0,1,\"Smith, Mr. Richard William\",male,,0,0,113056,26,A19,S\\r\\n286,0,3,\"Stankovic, Mr. Ivan\",male,33,0,0,349239,8.6625,,C\\r\\n287,1,3,\"de Mulder, Mr. Theodore\",male,30,0,0,345774,9.5,,S\\r\\n288,0,3,\"Naidenoff, Mr. Penko\",male,22,0,0,349206,7.8958,,S\\r\\n289,1,2,\"Hosono, Mr. Masabumi\",male,42,0,0,237798,13,,S\\r\\n290,1,3,\"Connolly, Miss. Kate\",female,22,0,0,370373,7.75,,Q\\r\\n291,1,1,\"Barber, Miss. Ellen \"\"Nellie\"\"\",female,26,0,0,19877,78.85,,S\\r\\n292,1,1,\"Bishop, Mrs. Dickinson H (Helen Walton)\",female,19,1,0,11967,91.0792,B49,C\\r\\n293,0,2,\"Levy, Mr. Rene Jacques\",male,36,0,0,SC/Paris 2163,12.875,D,C\\r\\n294,0,3,\"Haas, Miss. Aloisia\",female,24,0,0,349236,8.85,,S\\r\\n295,0,3,\"Mineff, Mr. Ivan\",male,24,0,0,349233,7.8958,,S\\r\\n296,0,1,\"Lewy, Mr. Ervin G\",male,,0,0,PC 17612,27.7208,,C\\r\\n297,0,3,\"Hanna, Mr. Mansour\",male,23.5,0,0,2693,7.2292,,C\\r\\n298,0,1,\"Allison, Miss. Helen Loraine\",female,2,1,2,113781,151.55,C22 C26,S\\r\\n299,1,1,\"Saalfeld, Mr. Adolphe\",male,,0,0,19988,30.5,C106,S\\r\\n300,1,1,\"Baxter, Mrs. James (Helene DeLaudeniere Chaput)\",female,50,0,1,PC 17558,247.5208,B58 B60,C\\r\\n301,1,3,\"Kelly, Miss. Anna Katherine \"\"Annie Kate\"\"\",female,,0,0,9234,7.75,,Q\\r\\n302,1,3,\"McCoy, Mr. Bernard\",male,,2,0,367226,23.25,,Q\\r\\n303,0,3,\"Johnson, Mr. William Cahoone Jr\",male,19,0,0,LINE,0,,S\\r\\n304,1,2,\"Keane, Miss. Nora A\",female,,0,0,226593,12.35,E101,Q\\r\\n305,0,3,\"Williams, Mr. Howard Hugh \"\"Harry\"\"\",male,,0,0,A/5 2466,8.05,,S\\r\\n306,1,1,\"Allison, Master. Hudson Trevor\",male,0.92,1,2,113781,151.55,C22 C26,S\\r\\n307,1,1,\"Fleming, Miss. Margaret\",female,,0,0,17421,110.8833,,C\\r\\n308,1,1,\"Penasco y Castellana, Mrs. Victor de Satode (Maria Josefa Perez de Soto y Vallejo)\",female,17,1,0,PC 17758,108.9,C65,C\\r\\n309,0,2,\"Abelson, Mr. Samuel\",male,30,1,0,P/PP 3381,24,,C\\r\\n310,1,1,\"Francatelli, Miss. Laura Mabel\",female,30,0,0,PC 17485,56.9292,E36,C\\r\\n311,1,1,\"Hays, Miss. Margaret Bechstein\",female,24,0,0,11767,83.1583,C54,C\\r\\n312,1,1,\"Ryerson, Miss. Emily Borie\",female,18,2,2,PC 17608,262.375,B57 B59 B63 B66,C\\r\\n313,0,2,\"Lahtinen, Mrs. William (Anna Sylfven)\",female,26,1,1,250651,26,,S\\r\\n314,0,3,\"Hendekovic, Mr. Ignjac\",male,28,0,0,349243,7.8958,,S\\r\\n315,0,2,\"Hart, Mr. Benjamin\",male,43,1,1,F.C.C. 13529,26.25,,S\\r\\n316,1,3,\"Nilsson, Miss. Helmina Josefina\",female,26,0,0,347470,7.8542,,S\\r\\n317,1,2,\"Kantor, Mrs. Sinai (Miriam Sternin)\",female,24,1,0,244367,26,,S\\r\\n318,0,2,\"Moraweck, Dr. Ernest\",male,54,0,0,29011,14,,S\\r\\n319,1,1,\"Wick, Miss. Mary Natalie\",female,31,0,2,36928,164.8667,C7,S\\r\\n320,1,1,\"Spedden, Mrs. Frederic Oakley (Margaretta Corning Stone)\",female,40,1,1,16966,134.5,E34,C\\r\\n321,0,3,\"Dennis, Mr. Samuel\",male,22,0,0,A/5 21172,7.25,,S\\r\\n322,0,3,\"Danoff, Mr. Yoto\",male,27,0,0,349219,7.8958,,S\\r\\n323,1,2,\"Slayter, Miss. Hilda Mary\",female,30,0,0,234818,12.35,,Q\\r\\n324,1,2,\"Caldwell, Mrs. Albert Francis (Sylvia Mae Harbaugh)\",female,22,1,1,248738,29,,S\\r\\n325,0,3,\"Sage, Mr. George John Jr\",male,,8,2,CA. 2343,69.55,,S\\r\\n326,1,1,\"Young, Miss. Marie Grice\",female,36,0,0,PC 17760,135.6333,C32,C\\r\\n327,0,3,\"Nysveen, Mr. Johan Hansen\",male,61,0,0,345364,6.2375,,S\\r\\n328,1,2,\"Ball, Mrs. (Ada E Hall)\",female,36,0,0,28551,13,D,S\\r\\n329,1,3,\"Goldsmith, Mrs. Frank John (Emily Alice Brown)\",female,31,1,1,363291,20.525,,S\\r\\n330,1,1,\"Hippach, Miss. Jean Gertrude\",female,16,0,1,111361,57.9792,B18,C\\r\\n331,1,3,\"McCoy, Miss. Agnes\",female,,2,0,367226,23.25,,Q\\r\\n332,0,1,\"Partner, Mr. Austen\",male,45.5,0,0,113043,28.5,C124,S\\r\\n333,0,1,\"Graham, Mr. George Edward\",male,38,0,1,PC 17582,153.4625,C91,S\\r\\n334,0,3,\"Vander Planke, Mr. Leo Edmondus\",male,16,2,0,345764,18,,S\\r\\n335,1,1,\"Frauenthal, Mrs. Henry William (Clara Heinsheimer)\",female,,1,0,PC 17611,133.65,,S\\r\\n336,0,3,\"Denkoff, Mr. Mitto\",male,,0,0,349225,7.8958,,S\\r\\n337,0,1,\"Pears, Mr. Thomas Clinton\",male,29,1,0,113776,66.6,C2,S\\r\\n338,1,1,\"Burns, Miss. Elizabeth Margaret\",female,41,0,0,16966,134.5,E40,C\\r\\n339,1,3,\"Dahl, Mr. Karl Edwart\",male,45,0,0,7598,8.05,,S\\r\\n340,0,1,\"Blackwell, Mr. Stephen Weart\",male,45,0,0,113784,35.5,T,S\\r\\n341,1,2,\"Navratil, Master. Edmond Roger\",male,2,1,1,230080,26,F2,S\\r\\n342,1,1,\"Fortune, Miss. Alice Elizabeth\",female,24,3,2,19950,263,C23 C25 C27,S\\r\\n343,0,2,\"Collander, Mr. Erik Gustaf\",male,28,0,0,248740,13,,S\\r\\n344,0,2,\"Sedgwick, Mr. Charles Frederick Waddington\",male,25,0,0,244361,13,,S\\r\\n345,0,2,\"Fox, Mr. Stanley Hubert\",male,36,0,0,229236,13,,S\\r\\n346,1,2,\"Brown, Miss. Amelia \"\"Mildred\"\"\",female,24,0,0,248733,13,F33,S\\r\\n347,1,2,\"Smith, Miss. Marion Elsie\",female,40,0,0,31418,13,,S\\r\\n348,1,3,\"Davison, Mrs. Thomas Henry (Mary E Finck)\",female,,1,0,386525,16.1,,S\\r\\n349,1,3,\"Coutts, Master. William Loch \"\"William\"\"\",male,3,1,1,C.A. 37671,15.9,,S\\r\\n350,0,3,\"Dimic, Mr. Jovan\",male,42,0,0,315088,8.6625,,S\\r\\n351,0,3,\"Odahl, Mr. Nils Martin\",male,23,0,0,7267,9.225,,S\\r\\n352,0,1,\"Williams-Lambert, Mr. Fletcher Fellows\",male,,0,0,113510,35,C128,S\\r\\n353,0,3,\"Elias, Mr. Tannous\",male,15,1,1,2695,7.2292,,C\\r\\n354,0,3,\"Arnold-Franchi, Mr. Josef\",male,25,1,0,349237,17.8,,S\\r\\n355,0,3,\"Yousif, Mr. Wazli\",male,,0,0,2647,7.225,,C\\r\\n356,0,3,\"Vanden Steen, Mr. Leo Peter\",male,28,0,0,345783,9.5,,S\\r\\n357,1,1,\"Bowerman, Miss. Elsie Edith\",female,22,0,1,113505,55,E33,S\\r\\n358,0,2,\"Funk, Miss. Annie Clemmer\",female,38,0,0,237671,13,,S\\r\\n359,1,3,\"McGovern, Miss. Mary\",female,,0,0,330931,7.8792,,Q\\r\\n360,1,3,\"Mockler, Miss. Helen Mary \"\"Ellie\"\"\",female,,0,0,330980,7.8792,,Q\\r\\n361,0,3,\"Skoog, Mr. Wilhelm\",male,40,1,4,347088,27.9,,S\\r\\n362,0,2,\"del Carlo, Mr. Sebastiano\",male,29,1,0,SC/PARIS 2167,27.7208,,C\\r\\n363,0,3,\"Barbara, Mrs. (Catherine David)\",female,45,0,1,2691,14.4542,,C\\r\\n364,0,3,\"Asim, Mr. Adola\",male,35,0,0,SOTON/O.Q. 3101310,7.05,,S\\r\\n365,0,3,\"O\\'Brien, Mr. Thomas\",male,,1,0,370365,15.5,,Q\\r\\n366,0,3,\"Adahl, Mr. Mauritz Nils Martin\",male,30,0,0,C 7076,7.25,,S\\r\\n367,1,1,\"Warren, Mrs. Frank Manley (Anna Sophia Atkinson)\",female,60,1,0,110813,75.25,D37,C\\r\\n368,1,3,\"Moussa, Mrs. (Mantoura Boulos)\",female,,0,0,2626,7.2292,,C\\r\\n369,1,3,\"Jermyn, Miss. Annie\",female,,0,0,14313,7.75,,Q\\r\\n370,1,1,\"Aubart, Mme. Leontine Pauline\",female,24,0,0,PC 17477,69.3,B35,C\\r\\n371,1,1,\"Harder, Mr. George Achilles\",male,25,1,0,11765,55.4417,E50,C\\r\\n372,0,3,\"Wiklund, Mr. Jakob Alfred\",male,18,1,0,3101267,6.4958,,S\\r\\n373,0,3,\"Beavan, Mr. William Thomas\",male,19,0,0,323951,8.05,,S\\r\\n374,0,1,\"Ringhini, Mr. Sante\",male,22,0,0,PC 17760,135.6333,,C\\r\\n375,0,3,\"Palsson, Miss. Stina Viola\",female,3,3,1,349909,21.075,,S\\r\\n376,1,1,\"Meyer, Mrs. Edgar Joseph (Leila Saks)\",female,,1,0,PC 17604,82.1708,,C\\r\\n377,1,3,\"Landergren, Miss. Aurora Adelia\",female,22,0,0,C 7077,7.25,,S\\r\\n378,0,1,\"Widener, Mr. Harry Elkins\",male,27,0,2,113503,211.5,C82,C\\r\\n379,0,3,\"Betros, Mr. Tannous\",male,20,0,0,2648,4.0125,,C\\r\\n380,0,3,\"Gustafsson, Mr. Karl Gideon\",male,19,0,0,347069,7.775,,S\\r\\n381,1,1,\"Bidois, Miss. Rosalie\",female,42,0,0,PC 17757,227.525,,C\\r\\n382,1,3,\"Nakid, Miss. Maria (\"\"Mary\"\")\",female,1,0,2,2653,15.7417,,C\\r\\n383,0,3,\"Tikkanen, Mr. Juho\",male,32,0,0,STON/O 2. 3101293,7.925,,S\\r\\n384,1,1,\"Holverson, Mrs. Alexander Oskar (Mary Aline Towner)\",female,35,1,0,113789,52,,S\\r\\n385,0,3,\"Plotcharsky, Mr. Vasil\",male,,0,0,349227,7.8958,,S\\r\\n386,0,2,\"Davies, Mr. Charles Henry\",male,18,0,0,S.O.C. 14879,73.5,,S\\r\\n387,0,3,\"Goodwin, Master. Sidney Leonard\",male,1,5,2,CA 2144,46.9,,S\\r\\n388,1,2,\"Buss, Miss. Kate\",female,36,0,0,27849,13,,S\\r\\n389,0,3,\"Sadlier, Mr. Matthew\",male,,0,0,367655,7.7292,,Q\\r\\n390,1,2,\"Lehmann, Miss. Bertha\",female,17,0,0,SC 1748,12,,C\\r\\n391,1,1,\"Carter, Mr. William Ernest\",male,36,1,2,113760,120,B96 B98,S\\r\\n392,1,3,\"Jansson, Mr. Carl Olof\",male,21,0,0,350034,7.7958,,S\\r\\n393,0,3,\"Gustafsson, Mr. Johan Birger\",male,28,2,0,3101277,7.925,,S\\r\\n394,1,1,\"Newell, Miss. Marjorie\",female,23,1,0,35273,113.275,D36,C\\r\\n395,1,3,\"Sandstrom, Mrs. Hjalmar (Agnes Charlotta Bengtsson)\",female,24,0,2,PP 9549,16.7,G6,S\\r\\n396,0,3,\"Johansson, Mr. Erik\",male,22,0,0,350052,7.7958,,S\\r\\n397,0,3,\"Olsson, Miss. Elina\",female,31,0,0,350407,7.8542,,S\\r\\n398,0,2,\"McKane, Mr. Peter David\",male,46,0,0,28403,26,,S\\r\\n399,0,2,\"Pain, Dr. Alfred\",male,23,0,0,244278,10.5,,S\\r\\n400,1,2,\"Trout, Mrs. William H (Jessie L)\",female,28,0,0,240929,12.65,,S\\r\\n401,1,3,\"Niskanen, Mr. Juha\",male,39,0,0,STON/O 2. 3101289,7.925,,S\\r\\n402,0,3,\"Adams, Mr. John\",male,26,0,0,341826,8.05,,S\\r\\n403,0,3,\"Jussila, Miss. Mari Aina\",female,21,1,0,4137,9.825,,S\\r\\n404,0,3,\"Hakkarainen, Mr. Pekka Pietari\",male,28,1,0,STON/O2. 3101279,15.85,,S\\r\\n405,0,3,\"Oreskovic, Miss. Marija\",female,20,0,0,315096,8.6625,,S\\r\\n406,0,2,\"Gale, Mr. Shadrach\",male,34,1,0,28664,21,,S\\r\\n407,0,3,\"Widegren, Mr. Carl/Charles Peter\",male,51,0,0,347064,7.75,,S\\r\\n408,1,2,\"Richards, Master. William Rowe\",male,3,1,1,29106,18.75,,S\\r\\n409,0,3,\"Birkeland, Mr. Hans Martin Monsen\",male,21,0,0,312992,7.775,,S\\r\\n410,0,3,\"Lefebre, Miss. Ida\",female,,3,1,4133,25.4667,,S\\r\\n411,0,3,\"Sdycoff, Mr. Todor\",male,,0,0,349222,7.8958,,S\\r\\n412,0,3,\"Hart, Mr. Henry\",male,,0,0,394140,6.8583,,Q\\r\\n413,1,1,\"Minahan, Miss. Daisy E\",female,33,1,0,19928,90,C78,Q\\r\\n414,0,2,\"Cunningham, Mr. Alfred Fleming\",male,,0,0,239853,0,,S\\r\\n415,1,3,\"Sundman, Mr. Johan Julian\",male,44,0,0,STON/O 2. 3101269,7.925,,S\\r\\n416,0,3,\"Meek, Mrs. Thomas (Annie Louise Rowley)\",female,,0,0,343095,8.05,,S\\r\\n417,1,2,\"Drew, Mrs. James Vivian (Lulu Thorne Christian)\",female,34,1,1,28220,32.5,,S\\r\\n418,1,2,\"Silven, Miss. Lyyli Karoliina\",female,18,0,2,250652,13,,S\\r\\n419,0,2,\"Matthews, Mr. William John\",male,30,0,0,28228,13,,S\\r\\n420,0,3,\"Van Impe, Miss. Catharina\",female,10,0,2,345773,24.15,,S\\r\\n421,0,3,\"Gheorgheff, Mr. Stanio\",male,,0,0,349254,7.8958,,C\\r\\n422,0,3,\"Charters, Mr. David\",male,21,0,0,A/5. 13032,7.7333,,Q\\r\\n423,0,3,\"Zimmerman, Mr. Leo\",male,29,0,0,315082,7.875,,S\\r\\n424,0,3,\"Danbom, Mrs. Ernst Gilbert (Anna Sigrid Maria Brogren)\",female,28,1,1,347080,14.4,,S\\r\\n425,0,3,\"Rosblom, Mr. Viktor Richard\",male,18,1,1,370129,20.2125,,S\\r\\n426,0,3,\"Wiseman, Mr. Phillippe\",male,,0,0,A/4. 34244,7.25,,S\\r\\n427,1,2,\"Clarke, Mrs. Charles V (Ada Maria Winfield)\",female,28,1,0,2003,26,,S\\r\\n428,1,2,\"Phillips, Miss. Kate Florence (\"\"Mrs Kate Louise Phillips Marshall\"\")\",female,19,0,0,250655,26,,S\\r\\n429,0,3,\"Flynn, Mr. James\",male,,0,0,364851,7.75,,Q\\r\\n430,1,3,\"Pickard, Mr. Berk (Berk Trembisky)\",male,32,0,0,SOTON/O.Q. 392078,8.05,E10,S\\r\\n431,1,1,\"Bjornstrom-Steffansson, Mr. Mauritz Hakan\",male,28,0,0,110564,26.55,C52,S\\r\\n432,1,3,\"Thorneycroft, Mrs. Percival (Florence Kate White)\",female,,1,0,376564,16.1,,S\\r\\n433,1,2,\"Louch, Mrs. Charles Alexander (Alice Adelaide Slow)\",female,42,1,0,SC/AH 3085,26,,S\\r\\n434,0,3,\"Kallio, Mr. Nikolai Erland\",male,17,0,0,STON/O 2. 3101274,7.125,,S\\r\\n435,0,1,\"Silvey, Mr. William Baird\",male,50,1,0,13507,55.9,E44,S\\r\\n436,1,1,\"Carter, Miss. Lucile Polk\",female,14,1,2,113760,120,B96 B98,S\\r\\n437,0,3,\"Ford, Miss. Doolina Margaret \"\"Daisy\"\"\",female,21,2,2,W./C. 6608,34.375,,S\\r\\n438,1,2,\"Richards, Mrs. Sidney (Emily Hocking)\",female,24,2,3,29106,18.75,,S\\r\\n439,0,1,\"Fortune, Mr. Mark\",male,64,1,4,19950,263,C23 C25 C27,S\\r\\n440,0,2,\"Kvillner, Mr. Johan Henrik Johannesson\",male,31,0,0,C.A. 18723,10.5,,S\\r\\n441,1,2,\"Hart, Mrs. Benjamin (Esther Ada Bloomfield)\",female,45,1,1,F.C.C. 13529,26.25,,S\\r\\n442,0,3,\"Hampe, Mr. Leon\",male,20,0,0,345769,9.5,,S\\r\\n443,0,3,\"Petterson, Mr. Johan Emil\",male,25,1,0,347076,7.775,,S\\r\\n444,1,2,\"Reynaldo, Ms. Encarnacion\",female,28,0,0,230434,13,,S\\r\\n445,1,3,\"Johannesen-Bratthammer, Mr. Bernt\",male,,0,0,65306,8.1125,,S\\r\\n446,1,1,\"Dodge, Master. Washington\",male,4,0,2,33638,81.8583,A34,S\\r\\n447,1,2,\"Mellinger, Miss. Madeleine Violet\",female,13,0,1,250644,19.5,,S\\r\\n448,1,1,\"Seward, Mr. Frederic Kimber\",male,34,0,0,113794,26.55,,S\\r\\n449,1,3,\"Baclini, Miss. Marie Catherine\",female,5,2,1,2666,19.2583,,C\\r\\n450,1,1,\"Peuchen, Major. Arthur Godfrey\",male,52,0,0,113786,30.5,C104,S\\r\\n451,0,2,\"West, Mr. Edwy Arthur\",male,36,1,2,C.A. 34651,27.75,,S\\r\\n452,0,3,\"Hagland, Mr. Ingvald Olai Olsen\",male,,1,0,65303,19.9667,,S\\r\\n453,0,1,\"Foreman, Mr. Benjamin Laventall\",male,30,0,0,113051,27.75,C111,C\\r\\n454,1,1,\"Goldenberg, Mr. Samuel L\",male,49,1,0,17453,89.1042,C92,C\\r\\n455,0,3,\"Peduzzi, Mr. Joseph\",male,,0,0,A/5 2817,8.05,,S\\r\\n456,1,3,\"Jalsevac, Mr. Ivan\",male,29,0,0,349240,7.8958,,C\\r\\n457,0,1,\"Millet, Mr. Francis Davis\",male,65,0,0,13509,26.55,E38,S\\r\\n458,1,1,\"Kenyon, Mrs. Frederick R (Marion)\",female,,1,0,17464,51.8625,D21,S\\r\\n459,1,2,\"Toomey, Miss. Ellen\",female,50,0,0,F.C.C. 13531,10.5,,S\\r\\n460,0,3,\"O\\'Connor, Mr. Maurice\",male,,0,0,371060,7.75,,Q\\r\\n461,1,1,\"Anderson, Mr. Harry\",male,48,0,0,19952,26.55,E12,S\\r\\n462,0,3,\"Morley, Mr. William\",male,34,0,0,364506,8.05,,S\\r\\n463,0,1,\"Gee, Mr. Arthur H\",male,47,0,0,111320,38.5,E63,S\\r\\n464,0,2,\"Milling, Mr. Jacob Christian\",male,48,0,0,234360,13,,S\\r\\n465,0,3,\"Maisner, Mr. Simon\",male,,0,0,A/S 2816,8.05,,S\\r\\n466,0,3,\"Goncalves, Mr. Manuel Estanslas\",male,38,0,0,SOTON/O.Q. 3101306,7.05,,S\\r\\n467,0,2,\"Campbell, Mr. William\",male,,0,0,239853,0,,S\\r\\n468,0,1,\"Smart, Mr. John Montgomery\",male,56,0,0,113792,26.55,,S\\r\\n469,0,3,\"Scanlan, Mr. James\",male,,0,0,36209,7.725,,Q\\r\\n470,1,3,\"Baclini, Miss. Helene Barbara\",female,0.75,2,1,2666,19.2583,,C\\r\\n471,0,3,\"Keefe, Mr. Arthur\",male,,0,0,323592,7.25,,S\\r\\n472,0,3,\"Cacic, Mr. Luka\",male,38,0,0,315089,8.6625,,S\\r\\n473,1,2,\"West, Mrs. Edwy Arthur (Ada Mary Worth)\",female,33,1,2,C.A. 34651,27.75,,S\\r\\n474,1,2,\"Jerwan, Mrs. Amin S (Marie Marthe Thuillard)\",female,23,0,0,SC/AH Basle 541,13.7917,D,C\\r\\n475,0,3,\"Strandberg, Miss. Ida Sofia\",female,22,0,0,7553,9.8375,,S\\r\\n476,0,1,\"Clifford, Mr. George Quincy\",male,,0,0,110465,52,A14,S\\r\\n477,0,2,\"Renouf, Mr. Peter Henry\",male,34,1,0,31027,21,,S\\r\\n478,0,3,\"Braund, Mr. Lewis Richard\",male,29,1,0,3460,7.0458,,S\\r\\n479,0,3,\"Karlsson, Mr. Nils August\",male,22,0,0,350060,7.5208,,S\\r\\n480,1,3,\"Hirvonen, Miss. Hildur E\",female,2,0,1,3101298,12.2875,,S\\r\\n481,0,3,\"Goodwin, Master. Harold Victor\",male,9,5,2,CA 2144,46.9,,S\\r\\n482,0,2,\"Frost, Mr. Anthony Wood \"\"Archie\"\"\",male,,0,0,239854,0,,S\\r\\n483,0,3,\"Rouse, Mr. Richard Henry\",male,50,0,0,A/5 3594,8.05,,S\\r\\n484,1,3,\"Turkula, Mrs. (Hedwig)\",female,63,0,0,4134,9.5875,,S\\r\\n485,1,1,\"Bishop, Mr. Dickinson H\",male,25,1,0,11967,91.0792,B49,C\\r\\n486,0,3,\"Lefebre, Miss. Jeannie\",female,,3,1,4133,25.4667,,S\\r\\n487,1,1,\"Hoyt, Mrs. Frederick Maxfield (Jane Anne Forby)\",female,35,1,0,19943,90,C93,S\\r\\n488,0,1,\"Kent, Mr. Edward Austin\",male,58,0,0,11771,29.7,B37,C\\r\\n489,0,3,\"Somerton, Mr. Francis William\",male,30,0,0,A.5. 18509,8.05,,S\\r\\n490,1,3,\"Coutts, Master. Eden Leslie \"\"Neville\"\"\",male,9,1,1,C.A. 37671,15.9,,S\\r\\n491,0,3,\"Hagland, Mr. Konrad Mathias Reiersen\",male,,1,0,65304,19.9667,,S\\r\\n492,0,3,\"Windelov, Mr. Einar\",male,21,0,0,SOTON/OQ 3101317,7.25,,S\\r\\n493,0,1,\"Molson, Mr. Harry Markland\",male,55,0,0,113787,30.5,C30,S\\r\\n494,0,1,\"Artagaveytia, Mr. Ramon\",male,71,0,0,PC 17609,49.5042,,C\\r\\n495,0,3,\"Stanley, Mr. Edward Roland\",male,21,0,0,A/4 45380,8.05,,S\\r\\n496,0,3,\"Yousseff, Mr. Gerious\",male,,0,0,2627,14.4583,,C\\r\\n497,1,1,\"Eustis, Miss. Elizabeth Mussey\",female,54,1,0,36947,78.2667,D20,C\\r\\n498,0,3,\"Shellard, Mr. Frederick William\",male,,0,0,C.A. 6212,15.1,,S\\r\\n499,0,1,\"Allison, Mrs. Hudson J C (Bessie Waldo Daniels)\",female,25,1,2,113781,151.55,C22 C26,S\\r\\n500,0,3,\"Svensson, Mr. Olof\",male,24,0,0,350035,7.7958,,S\\r\\n501,0,3,\"Calic, Mr. Petar\",male,17,0,0,315086,8.6625,,S\\r\\n502,0,3,\"Canavan, Miss. Mary\",female,21,0,0,364846,7.75,,Q\\r\\n503,0,3,\"O\\'Sullivan, Miss. Bridget Mary\",female,,0,0,330909,7.6292,,Q\\r\\n504,0,3,\"Laitinen, Miss. Kristina Sofia\",female,37,0,0,4135,9.5875,,S\\r\\n505,1,1,\"Maioni, Miss. Roberta\",female,16,0,0,110152,86.5,B79,S\\r\\n506,0,1,\"Penasco y Castellana, Mr. Victor de Satode\",male,18,1,0,PC 17758,108.9,C65,C\\r\\n507,1,2,\"Quick, Mrs. Frederick Charles (Jane Richards)\",female,33,0,2,26360,26,,S\\r\\n508,1,1,\"Bradley, Mr. George (\"\"George Arthur Brayton\"\")\",male,,0,0,111427,26.55,,S\\r\\n509,0,3,\"Olsen, Mr. Henry Margido\",male,28,0,0,C 4001,22.525,,S\\r\\n510,1,3,\"Lang, Mr. Fang\",male,26,0,0,1601,56.4958,,S\\r\\n511,1,3,\"Daly, Mr. Eugene Patrick\",male,29,0,0,382651,7.75,,Q\\r\\n512,0,3,\"Webber, Mr. James\",male,,0,0,SOTON/OQ 3101316,8.05,,S\\r\\n513,1,1,\"McGough, Mr. James Robert\",male,36,0,0,PC 17473,26.2875,E25,S\\r\\n514,1,1,\"Rothschild, Mrs. Martin (Elizabeth L. Barrett)\",female,54,1,0,PC 17603,59.4,,C\\r\\n515,0,3,\"Coleff, Mr. Satio\",male,24,0,0,349209,7.4958,,S\\r\\n516,0,1,\"Walker, Mr. William Anderson\",male,47,0,0,36967,34.0208,D46,S\\r\\n517,1,2,\"Lemore, Mrs. (Amelia Milley)\",female,34,0,0,C.A. 34260,10.5,F33,S\\r\\n518,0,3,\"Ryan, Mr. Patrick\",male,,0,0,371110,24.15,,Q\\r\\n519,1,2,\"Angle, Mrs. William A (Florence \"\"Mary\"\" Agnes Hughes)\",female,36,1,0,226875,26,,S\\r\\n520,0,3,\"Pavlovic, Mr. Stefo\",male,32,0,0,349242,7.8958,,S\\r\\n521,1,1,\"Perreault, Miss. Anne\",female,30,0,0,12749,93.5,B73,S\\r\\n522,0,3,\"Vovk, Mr. Janko\",male,22,0,0,349252,7.8958,,S\\r\\n523,0,3,\"Lahoud, Mr. Sarkis\",male,,0,0,2624,7.225,,C\\r\\n524,1,1,\"Hippach, Mrs. Louis Albert (Ida Sophia Fischer)\",female,44,0,1,111361,57.9792,B18,C\\r\\n525,0,3,\"Kassem, Mr. Fared\",male,,0,0,2700,7.2292,,C\\r\\n526,0,3,\"Farrell, Mr. James\",male,40.5,0,0,367232,7.75,,Q\\r\\n527,1,2,\"Ridsdale, Miss. Lucy\",female,50,0,0,W./C. 14258,10.5,,S\\r\\n528,0,1,\"Farthing, Mr. John\",male,,0,0,PC 17483,221.7792,C95,S\\r\\n529,0,3,\"Salonen, Mr. Johan Werner\",male,39,0,0,3101296,7.925,,S\\r\\n530,0,2,\"Hocking, Mr. Richard George\",male,23,2,1,29104,11.5,,S\\r\\n531,1,2,\"Quick, Miss. Phyllis May\",female,2,1,1,26360,26,,S\\r\\n532,0,3,\"Toufik, Mr. Nakli\",male,,0,0,2641,7.2292,,C\\r\\n533,0,3,\"Elias, Mr. Joseph Jr\",male,17,1,1,2690,7.2292,,C\\r\\n534,1,3,\"Peter, Mrs. Catherine (Catherine Rizk)\",female,,0,2,2668,22.3583,,C\\r\\n535,0,3,\"Cacic, Miss. Marija\",female,30,0,0,315084,8.6625,,S\\r\\n536,1,2,\"Hart, Miss. Eva Miriam\",female,7,0,2,F.C.C. 13529,26.25,,S\\r\\n537,0,1,\"Butt, Major. Archibald Willingham\",male,45,0,0,113050,26.55,B38,S\\r\\n538,1,1,\"LeRoy, Miss. Bertha\",female,30,0,0,PC 17761,106.425,,C\\r\\n539,0,3,\"Risien, Mr. Samuel Beard\",male,,0,0,364498,14.5,,S\\r\\n540,1,1,\"Frolicher, Miss. Hedwig Margaritha\",female,22,0,2,13568,49.5,B39,C\\r\\n541,1,1,\"Crosby, Miss. Harriet R\",female,36,0,2,WE/P 5735,71,B22,S\\r\\n542,0,3,\"Andersson, Miss. Ingeborg Constanzia\",female,9,4,2,347082,31.275,,S\\r\\n543,0,3,\"Andersson, Miss. Sigrid Elisabeth\",female,11,4,2,347082,31.275,,S\\r\\n544,1,2,\"Beane, Mr. Edward\",male,32,1,0,2908,26,,S\\r\\n545,0,1,\"Douglas, Mr. Walter Donald\",male,50,1,0,PC 17761,106.425,C86,C\\r\\n546,0,1,\"Nicholson, Mr. Arthur Ernest\",male,64,0,0,693,26,,S\\r\\n547,1,2,\"Beane, Mrs. Edward (Ethel Clarke)\",female,19,1,0,2908,26,,S\\r\\n548,1,2,\"Padro y Manent, Mr. Julian\",male,,0,0,SC/PARIS 2146,13.8625,,C\\r\\n549,0,3,\"Goldsmith, Mr. Frank John\",male,33,1,1,363291,20.525,,S\\r\\n550,1,2,\"Davies, Master. John Morgan Jr\",male,8,1,1,C.A. 33112,36.75,,S\\r\\n551,1,1,\"Thayer, Mr. John Borland Jr\",male,17,0,2,17421,110.8833,C70,C\\r\\n552,0,2,\"Sharp, Mr. Percival James R\",male,27,0,0,244358,26,,S\\r\\n553,0,3,\"O\\'Brien, Mr. Timothy\",male,,0,0,330979,7.8292,,Q\\r\\n554,1,3,\"Leeni, Mr. Fahim (\"\"Philip Zenni\"\")\",male,22,0,0,2620,7.225,,C\\r\\n555,1,3,\"Ohman, Miss. Velin\",female,22,0,0,347085,7.775,,S\\r\\n556,0,1,\"Wright, Mr. George\",male,62,0,0,113807,26.55,,S\\r\\n557,1,1,\"Duff Gordon, Lady. (Lucille Christiana Sutherland) (\"\"Mrs Morgan\"\")\",female,48,1,0,11755,39.6,A16,C\\r\\n558,0,1,\"Robbins, Mr. Victor\",male,,0,0,PC 17757,227.525,,C\\r\\n559,1,1,\"Taussig, Mrs. Emil (Tillie Mandelbaum)\",female,39,1,1,110413,79.65,E67,S\\r\\n560,1,3,\"de Messemaeker, Mrs. Guillaume Joseph (Emma)\",female,36,1,0,345572,17.4,,S\\r\\n561,0,3,\"Morrow, Mr. Thomas Rowan\",male,,0,0,372622,7.75,,Q\\r\\n562,0,3,\"Sivic, Mr. Husein\",male,40,0,0,349251,7.8958,,S\\r\\n563,0,2,\"Norman, Mr. Robert Douglas\",male,28,0,0,218629,13.5,,S\\r\\n564,0,3,\"Simmons, Mr. John\",male,,0,0,SOTON/OQ 392082,8.05,,S\\r\\n565,0,3,\"Meanwell, Miss. (Marion Ogden)\",female,,0,0,SOTON/O.Q. 392087,8.05,,S\\r\\n566,0,3,\"Davies, Mr. Alfred J\",male,24,2,0,A/4 48871,24.15,,S\\r\\n567,0,3,\"Stoytcheff, Mr. Ilia\",male,19,0,0,349205,7.8958,,S\\r\\n568,0,3,\"Palsson, Mrs. Nils (Alma Cornelia Berglund)\",female,29,0,4,349909,21.075,,S\\r\\n569,0,3,\"Doharr, Mr. Tannous\",male,,0,0,2686,7.2292,,C\\r\\n570,1,3,\"Jonsson, Mr. Carl\",male,32,0,0,350417,7.8542,,S\\r\\n571,1,2,\"Harris, Mr. George\",male,62,0,0,S.W./PP 752,10.5,,S\\r\\n572,1,1,\"Appleton, Mrs. Edward Dale (Charlotte Lamson)\",female,53,2,0,11769,51.4792,C101,S\\r\\n573,1,1,\"Flynn, Mr. John Irwin (\"\"Irving\"\")\",male,36,0,0,PC 17474,26.3875,E25,S\\r\\n574,1,3,\"Kelly, Miss. Mary\",female,,0,0,14312,7.75,,Q\\r\\n575,0,3,\"Rush, Mr. Alfred George John\",male,16,0,0,A/4. 20589,8.05,,S\\r\\n576,0,3,\"Patchett, Mr. George\",male,19,0,0,358585,14.5,,S\\r\\n577,1,2,\"Garside, Miss. Ethel\",female,34,0,0,243880,13,,S\\r\\n578,1,1,\"Silvey, Mrs. William Baird (Alice Munger)\",female,39,1,0,13507,55.9,E44,S\\r\\n579,0,3,\"Caram, Mrs. Joseph (Maria Elias)\",female,,1,0,2689,14.4583,,C\\r\\n580,1,3,\"Jussila, Mr. Eiriik\",male,32,0,0,STON/O 2. 3101286,7.925,,S\\r\\n581,1,2,\"Christy, Miss. Julie Rachel\",female,25,1,1,237789,30,,S\\r\\n582,1,1,\"Thayer, Mrs. John Borland (Marian Longstreth Morris)\",female,39,1,1,17421,110.8833,C68,C\\r\\n583,0,2,\"Downton, Mr. William James\",male,54,0,0,28403,26,,S\\r\\n584,0,1,\"Ross, Mr. John Hugo\",male,36,0,0,13049,40.125,A10,C\\r\\n585,0,3,\"Paulner, Mr. Uscher\",male,,0,0,3411,8.7125,,C\\r\\n586,1,1,\"Taussig, Miss. Ruth\",female,18,0,2,110413,79.65,E68,S\\r\\n587,0,2,\"Jarvis, Mr. John Denzil\",male,47,0,0,237565,15,,S\\r\\n588,1,1,\"Frolicher-Stehli, Mr. Maxmillian\",male,60,1,1,13567,79.2,B41,C\\r\\n589,0,3,\"Gilinski, Mr. Eliezer\",male,22,0,0,14973,8.05,,S\\r\\n590,0,3,\"Murdlin, Mr. Joseph\",male,,0,0,A./5. 3235,8.05,,S\\r\\n591,0,3,\"Rintamaki, Mr. Matti\",male,35,0,0,STON/O 2. 3101273,7.125,,S\\r\\n592,1,1,\"Stephenson, Mrs. Walter Bertram (Martha Eustis)\",female,52,1,0,36947,78.2667,D20,C\\r\\n593,0,3,\"Elsbury, Mr. William James\",male,47,0,0,A/5 3902,7.25,,S\\r\\n594,0,3,\"Bourke, Miss. Mary\",female,,0,2,364848,7.75,,Q\\r\\n595,0,2,\"Chapman, Mr. John Henry\",male,37,1,0,SC/AH 29037,26,,S\\r\\n596,0,3,\"Van Impe, Mr. Jean Baptiste\",male,36,1,1,345773,24.15,,S\\r\\n597,1,2,\"Leitch, Miss. Jessie Wills\",female,,0,0,248727,33,,S\\r\\n598,0,3,\"Johnson, Mr. Alfred\",male,49,0,0,LINE,0,,S\\r\\n599,0,3,\"Boulos, Mr. Hanna\",male,,0,0,2664,7.225,,C\\r\\n600,1,1,\"Duff Gordon, Sir. Cosmo Edmund (\"\"Mr Morgan\"\")\",male,49,1,0,PC 17485,56.9292,A20,C\\r\\n601,1,2,\"Jacobsohn, Mrs. Sidney Samuel (Amy Frances Christy)\",female,24,2,1,243847,27,,S\\r\\n602,0,3,\"Slabenoff, Mr. Petco\",male,,0,0,349214,7.8958,,S\\r\\n603,0,1,\"Harrington, Mr. Charles H\",male,,0,0,113796,42.4,,S\\r\\n604,0,3,\"Torber, Mr. Ernst William\",male,44,0,0,364511,8.05,,S\\r\\n605,1,1,\"Homer, Mr. Harry (\"\"Mr E Haven\"\")\",male,35,0,0,111426,26.55,,C\\r\\n606,0,3,\"Lindell, Mr. Edvard Bengtsson\",male,36,1,0,349910,15.55,,S\\r\\n607,0,3,\"Karaic, Mr. Milan\",male,30,0,0,349246,7.8958,,S\\r\\n608,1,1,\"Daniel, Mr. Robert Williams\",male,27,0,0,113804,30.5,,S\\r\\n609,1,2,\"Laroche, Mrs. Joseph (Juliette Marie Louise Lafargue)\",female,22,1,2,SC/Paris 2123,41.5792,,C\\r\\n610,1,1,\"Shutes, Miss. Elizabeth W\",female,40,0,0,PC 17582,153.4625,C125,S\\r\\n611,0,3,\"Andersson, Mrs. Anders Johan (Alfrida Konstantia Brogren)\",female,39,1,5,347082,31.275,,S\\r\\n612,0,3,\"Jardin, Mr. Jose Neto\",male,,0,0,SOTON/O.Q. 3101305,7.05,,S\\r\\n613,1,3,\"Murphy, Miss. Margaret Jane\",female,,1,0,367230,15.5,,Q\\r\\n614,0,3,\"Horgan, Mr. John\",male,,0,0,370377,7.75,,Q\\r\\n615,0,3,\"Brocklebank, Mr. William Alfred\",male,35,0,0,364512,8.05,,S\\r\\n616,1,2,\"Herman, Miss. Alice\",female,24,1,2,220845,65,,S\\r\\n617,0,3,\"Danbom, Mr. Ernst Gilbert\",male,34,1,1,347080,14.4,,S\\r\\n618,0,3,\"Lobb, Mrs. William Arthur (Cordelia K Stanlick)\",female,26,1,0,A/5. 3336,16.1,,S\\r\\n619,1,2,\"Becker, Miss. Marion Louise\",female,4,2,1,230136,39,F4,S\\r\\n620,0,2,\"Gavey, Mr. Lawrence\",male,26,0,0,31028,10.5,,S\\r\\n621,0,3,\"Yasbeck, Mr. Antoni\",male,27,1,0,2659,14.4542,,C\\r\\n622,1,1,\"Kimball, Mr. Edwin Nelson Jr\",male,42,1,0,11753,52.5542,D19,S\\r\\n623,1,3,\"Nakid, Mr. Sahid\",male,20,1,1,2653,15.7417,,C\\r\\n624,0,3,\"Hansen, Mr. Henry Damsgaard\",male,21,0,0,350029,7.8542,,S\\r\\n625,0,3,\"Bowen, Mr. David John \"\"Dai\"\"\",male,21,0,0,54636,16.1,,S\\r\\n626,0,1,\"Sutton, Mr. Frederick\",male,61,0,0,36963,32.3208,D50,S\\r\\n627,0,2,\"Kirkland, Rev. Charles Leonard\",male,57,0,0,219533,12.35,,Q\\r\\n628,1,1,\"Longley, Miss. Gretchen Fiske\",female,21,0,0,13502,77.9583,D9,S\\r\\n629,0,3,\"Bostandyeff, Mr. Guentcho\",male,26,0,0,349224,7.8958,,S\\r\\n630,0,3,\"O\\'Connell, Mr. Patrick D\",male,,0,0,334912,7.7333,,Q\\r\\n631,1,1,\"Barkworth, Mr. Algernon Henry Wilson\",male,80,0,0,27042,30,A23,S\\r\\n632,0,3,\"Lundahl, Mr. Johan Svensson\",male,51,0,0,347743,7.0542,,S\\r\\n633,1,1,\"Stahelin-Maeglin, Dr. Max\",male,32,0,0,13214,30.5,B50,C\\r\\n634,0,1,\"Parr, Mr. William Henry Marsh\",male,,0,0,112052,0,,S\\r\\n635,0,3,\"Skoog, Miss. Mabel\",female,9,3,2,347088,27.9,,S\\r\\n636,1,2,\"Davis, Miss. Mary\",female,28,0,0,237668,13,,S\\r\\n637,0,3,\"Leinonen, Mr. Antti Gustaf\",male,32,0,0,STON/O 2. 3101292,7.925,,S\\r\\n638,0,2,\"Collyer, Mr. Harvey\",male,31,1,1,C.A. 31921,26.25,,S\\r\\n639,0,3,\"Panula, Mrs. Juha (Maria Emilia Ojala)\",female,41,0,5,3101295,39.6875,,S\\r\\n640,0,3,\"Thorneycroft, Mr. Percival\",male,,1,0,376564,16.1,,S\\r\\n641,0,3,\"Jensen, Mr. Hans Peder\",male,20,0,0,350050,7.8542,,S\\r\\n642,1,1,\"Sagesser, Mlle. Emma\",female,24,0,0,PC 17477,69.3,B35,C\\r\\n643,0,3,\"Skoog, Miss. Margit Elizabeth\",female,2,3,2,347088,27.9,,S\\r\\n644,1,3,\"Foo, Mr. Choong\",male,,0,0,1601,56.4958,,S\\r\\n645,1,3,\"Baclini, Miss. Eugenie\",female,0.75,2,1,2666,19.2583,,C\\r\\n646,1,1,\"Harper, Mr. Henry Sleeper\",male,48,1,0,PC 17572,76.7292,D33,C\\r\\n647,0,3,\"Cor, Mr. Liudevit\",male,19,0,0,349231,7.8958,,S\\r\\n648,1,1,\"Simonius-Blumer, Col. Oberst Alfons\",male,56,0,0,13213,35.5,A26,C\\r\\n649,0,3,\"Willey, Mr. Edward\",male,,0,0,S.O./P.P. 751,7.55,,S\\r\\n650,1,3,\"Stanley, Miss. Amy Zillah Elsie\",female,23,0,0,CA. 2314,7.55,,S\\r\\n651,0,3,\"Mitkoff, Mr. Mito\",male,,0,0,349221,7.8958,,S\\r\\n652,1,2,\"Doling, Miss. Elsie\",female,18,0,1,231919,23,,S\\r\\n653,0,3,\"Kalvik, Mr. Johannes Halvorsen\",male,21,0,0,8475,8.4333,,S\\r\\n654,1,3,\"O\\'Leary, Miss. Hanora \"\"Norah\"\"\",female,,0,0,330919,7.8292,,Q\\r\\n655,0,3,\"Hegarty, Miss. Hanora \"\"Nora\"\"\",female,18,0,0,365226,6.75,,Q\\r\\n656,0,2,\"Hickman, Mr. Leonard Mark\",male,24,2,0,S.O.C. 14879,73.5,,S\\r\\n657,0,3,\"Radeff, Mr. Alexander\",male,,0,0,349223,7.8958,,S\\r\\n658,0,3,\"Bourke, Mrs. John (Catherine)\",female,32,1,1,364849,15.5,,Q\\r\\n659,0,2,\"Eitemiller, Mr. George Floyd\",male,23,0,0,29751,13,,S\\r\\n660,0,1,\"Newell, Mr. Arthur Webster\",male,58,0,2,35273,113.275,D48,C\\r\\n661,1,1,\"Frauenthal, Dr. Henry William\",male,50,2,0,PC 17611,133.65,,S\\r\\n662,0,3,\"Badt, Mr. Mohamed\",male,40,0,0,2623,7.225,,C\\r\\n663,0,1,\"Colley, Mr. Edward Pomeroy\",male,47,0,0,5727,25.5875,E58,S\\r\\n664,0,3,\"Coleff, Mr. Peju\",male,36,0,0,349210,7.4958,,S\\r\\n665,1,3,\"Lindqvist, Mr. Eino William\",male,20,1,0,STON/O 2. 3101285,7.925,,S\\r\\n666,0,2,\"Hickman, Mr. Lewis\",male,32,2,0,S.O.C. 14879,73.5,,S\\r\\n667,0,2,\"Butler, Mr. Reginald Fenton\",male,25,0,0,234686,13,,S\\r\\n668,0,3,\"Rommetvedt, Mr. Knud Paust\",male,,0,0,312993,7.775,,S\\r\\n669,0,3,\"Cook, Mr. Jacob\",male,43,0,0,A/5 3536,8.05,,S\\r\\n670,1,1,\"Taylor, Mrs. Elmer Zebley (Juliet Cummins Wright)\",female,,1,0,19996,52,C126,S\\r\\n671,1,2,\"Brown, Mrs. Thomas William Solomon (Elizabeth Catherine Ford)\",female,40,1,1,29750,39,,S\\r\\n672,0,1,\"Davidson, Mr. Thornton\",male,31,1,0,F.C. 12750,52,B71,S\\r\\n673,0,2,\"Mitchell, Mr. Henry Michael\",male,70,0,0,C.A. 24580,10.5,,S\\r\\n674,1,2,\"Wilhelms, Mr. Charles\",male,31,0,0,244270,13,,S\\r\\n675,0,2,\"Watson, Mr. Ennis Hastings\",male,,0,0,239856,0,,S\\r\\n676,0,3,\"Edvardsson, Mr. Gustaf Hjalmar\",male,18,0,0,349912,7.775,,S\\r\\n677,0,3,\"Sawyer, Mr. Frederick Charles\",male,24.5,0,0,342826,8.05,,S\\r\\n678,1,3,\"Turja, Miss. Anna Sofia\",female,18,0,0,4138,9.8417,,S\\r\\n679,0,3,\"Goodwin, Mrs. Frederick (Augusta Tyler)\",female,43,1,6,CA 2144,46.9,,S\\r\\n680,1,1,\"Cardeza, Mr. Thomas Drake Martinez\",male,36,0,1,PC 17755,512.3292,B51 B53 B55,C\\r\\n681,0,3,\"Peters, Miss. Katie\",female,,0,0,330935,8.1375,,Q\\r\\n682,1,1,\"Hassab, Mr. Hammad\",male,27,0,0,PC 17572,76.7292,D49,C\\r\\n683,0,3,\"Olsvigen, Mr. Thor Anderson\",male,20,0,0,6563,9.225,,S\\r\\n684,0,3,\"Goodwin, Mr. Charles Edward\",male,14,5,2,CA 2144,46.9,,S\\r\\n685,0,2,\"Brown, Mr. Thomas William Solomon\",male,60,1,1,29750,39,,S\\r\\n686,0,2,\"Laroche, Mr. Joseph Philippe Lemercier\",male,25,1,2,SC/Paris 2123,41.5792,,C\\r\\n687,0,3,\"Panula, Mr. Jaako Arnold\",male,14,4,1,3101295,39.6875,,S\\r\\n688,0,3,\"Dakic, Mr. Branko\",male,19,0,0,349228,10.1708,,S\\r\\n689,0,3,\"Fischer, Mr. Eberhard Thelander\",male,18,0,0,350036,7.7958,,S\\r\\n690,1,1,\"Madill, Miss. Georgette Alexandra\",female,15,0,1,24160,211.3375,B5,S\\r\\n691,1,1,\"Dick, Mr. Albert Adrian\",male,31,1,0,17474,57,B20,S\\r\\n692,1,3,\"Karun, Miss. Manca\",female,4,0,1,349256,13.4167,,C\\r\\n693,1,3,\"Lam, Mr. Ali\",male,,0,0,1601,56.4958,,S\\r\\n694,0,3,\"Saad, Mr. Khalil\",male,25,0,0,2672,7.225,,C\\r\\n695,0,1,\"Weir, Col. John\",male,60,0,0,113800,26.55,,S\\r\\n696,0,2,\"Chapman, Mr. Charles Henry\",male,52,0,0,248731,13.5,,S\\r\\n697,0,3,\"Kelly, Mr. James\",male,44,0,0,363592,8.05,,S\\r\\n698,1,3,\"Mullens, Miss. Katherine \"\"Katie\"\"\",female,,0,0,35852,7.7333,,Q\\r\\n699,0,1,\"Thayer, Mr. John Borland\",male,49,1,1,17421,110.8833,C68,C\\r\\n700,0,3,\"Humblen, Mr. Adolf Mathias Nicolai Olsen\",male,42,0,0,348121,7.65,F G63,S\\r\\n701,1,1,\"Astor, Mrs. John Jacob (Madeleine Talmadge Force)\",female,18,1,0,PC 17757,227.525,C62 C64,C\\r\\n702,1,1,\"Silverthorne, Mr. Spencer Victor\",male,35,0,0,PC 17475,26.2875,E24,S\\r\\n703,0,3,\"Barbara, Miss. Saiide\",female,18,0,1,2691,14.4542,,C\\r\\n704,0,3,\"Gallagher, Mr. Martin\",male,25,0,0,36864,7.7417,,Q\\r\\n705,0,3,\"Hansen, Mr. Henrik Juul\",male,26,1,0,350025,7.8542,,S\\r\\n706,0,2,\"Morley, Mr. Henry Samuel (\"\"Mr Henry Marshall\"\")\",male,39,0,0,250655,26,,S\\r\\n707,1,2,\"Kelly, Mrs. Florence \"\"Fannie\"\"\",female,45,0,0,223596,13.5,,S\\r\\n708,1,1,\"Calderhead, Mr. Edward Pennington\",male,42,0,0,PC 17476,26.2875,E24,S\\r\\n709,1,1,\"Cleaver, Miss. Alice\",female,22,0,0,113781,151.55,,S\\r\\n710,1,3,\"Moubarek, Master. Halim Gonios (\"\"William George\"\")\",male,,1,1,2661,15.2458,,C\\r\\n711,1,1,\"Mayne, Mlle. Berthe Antonine (\"\"Mrs de Villiers\"\")\",female,24,0,0,PC 17482,49.5042,C90,C\\r\\n712,0,1,\"Klaber, Mr. Herman\",male,,0,0,113028,26.55,C124,S\\r\\n713,1,1,\"Taylor, Mr. Elmer Zebley\",male,48,1,0,19996,52,C126,S\\r\\n714,0,3,\"Larsson, Mr. August Viktor\",male,29,0,0,7545,9.4833,,S\\r\\n715,0,2,\"Greenberg, Mr. Samuel\",male,52,0,0,250647,13,,S\\r\\n716,0,3,\"Soholt, Mr. Peter Andreas Lauritz Andersen\",male,19,0,0,348124,7.65,F G73,S\\r\\n717,1,1,\"Endres, Miss. Caroline Louise\",female,38,0,0,PC 17757,227.525,C45,C\\r\\n718,1,2,\"Troutt, Miss. Edwina Celia \"\"Winnie\"\"\",female,27,0,0,34218,10.5,E101,S\\r\\n719,0,3,\"McEvoy, Mr. Michael\",male,,0,0,36568,15.5,,Q\\r\\n720,0,3,\"Johnson, Mr. Malkolm Joackim\",male,33,0,0,347062,7.775,,S\\r\\n721,1,2,\"Harper, Miss. Annie Jessie \"\"Nina\"\"\",female,6,0,1,248727,33,,S\\r\\n722,0,3,\"Jensen, Mr. Svend Lauritz\",male,17,1,0,350048,7.0542,,S\\r\\n723,0,2,\"Gillespie, Mr. William Henry\",male,34,0,0,12233,13,,S\\r\\n724,0,2,\"Hodges, Mr. Henry Price\",male,50,0,0,250643,13,,S\\r\\n725,1,1,\"Chambers, Mr. Norman Campbell\",male,27,1,0,113806,53.1,E8,S\\r\\n726,0,3,\"Oreskovic, Mr. Luka\",male,20,0,0,315094,8.6625,,S\\r\\n727,1,2,\"Renouf, Mrs. Peter Henry (Lillian Jefferys)\",female,30,3,0,31027,21,,S\\r\\n728,1,3,\"Mannion, Miss. Margareth\",female,,0,0,36866,7.7375,,Q\\r\\n729,0,2,\"Bryhl, Mr. Kurt Arnold Gottfrid\",male,25,1,0,236853,26,,S\\r\\n730,0,3,\"Ilmakangas, Miss. Pieta Sofia\",female,25,1,0,STON/O2. 3101271,7.925,,S\\r\\n731,1,1,\"Allen, Miss. Elisabeth Walton\",female,29,0,0,24160,211.3375,B5,S\\r\\n732,0,3,\"Hassan, Mr. Houssein G N\",male,11,0,0,2699,18.7875,,C\\r\\n733,0,2,\"Knight, Mr. Robert J\",male,,0,0,239855,0,,S\\r\\n734,0,2,\"Berriman, Mr. William John\",male,23,0,0,28425,13,,S\\r\\n735,0,2,\"Troupiansky, Mr. Moses Aaron\",male,23,0,0,233639,13,,S\\r\\n736,0,3,\"Williams, Mr. Leslie\",male,28.5,0,0,54636,16.1,,S\\r\\n737,0,3,\"Ford, Mrs. Edward (Margaret Ann Watson)\",female,48,1,3,W./C. 6608,34.375,,S\\r\\n738,1,1,\"Lesurer, Mr. Gustave J\",male,35,0,0,PC 17755,512.3292,B101,C\\r\\n739,0,3,\"Ivanoff, Mr. Kanio\",male,,0,0,349201,7.8958,,S\\r\\n740,0,3,\"Nankoff, Mr. Minko\",male,,0,0,349218,7.8958,,S\\r\\n741,1,1,\"Hawksford, Mr. Walter James\",male,,0,0,16988,30,D45,S\\r\\n742,0,1,\"Cavendish, Mr. Tyrell William\",male,36,1,0,19877,78.85,C46,S\\r\\n743,1,1,\"Ryerson, Miss. Susan Parker \"\"Suzette\"\"\",female,21,2,2,PC 17608,262.375,B57 B59 B63 B66,C\\r\\n744,0,3,\"McNamee, Mr. Neal\",male,24,1,0,376566,16.1,,S\\r\\n745,1,3,\"Stranden, Mr. Juho\",male,31,0,0,STON/O 2. 3101288,7.925,,S\\r\\n746,0,1,\"Crosby, Capt. Edward Gifford\",male,70,1,1,WE/P 5735,71,B22,S\\r\\n747,0,3,\"Abbott, Mr. Rossmore Edward\",male,16,1,1,C.A. 2673,20.25,,S\\r\\n748,1,2,\"Sinkkonen, Miss. Anna\",female,30,0,0,250648,13,,S\\r\\n749,0,1,\"Marvin, Mr. Daniel Warner\",male,19,1,0,113773,53.1,D30,S\\r\\n750,0,3,\"Connaghton, Mr. Michael\",male,31,0,0,335097,7.75,,Q\\r\\n751,1,2,\"Wells, Miss. Joan\",female,4,1,1,29103,23,,S\\r\\n752,1,3,\"Moor, Master. Meier\",male,6,0,1,392096,12.475,E121,S\\r\\n753,0,3,\"Vande Velde, Mr. Johannes Joseph\",male,33,0,0,345780,9.5,,S\\r\\n754,0,3,\"Jonkoff, Mr. Lalio\",male,23,0,0,349204,7.8958,,S\\r\\n755,1,2,\"Herman, Mrs. Samuel (Jane Laver)\",female,48,1,2,220845,65,,S\\r\\n756,1,2,\"Hamalainen, Master. Viljo\",male,0.67,1,1,250649,14.5,,S\\r\\n757,0,3,\"Carlsson, Mr. August Sigfrid\",male,28,0,0,350042,7.7958,,S\\r\\n758,0,2,\"Bailey, Mr. Percy Andrew\",male,18,0,0,29108,11.5,,S\\r\\n759,0,3,\"Theobald, Mr. Thomas Leonard\",male,34,0,0,363294,8.05,,S\\r\\n760,1,1,\"Rothes, the Countess. of (Lucy Noel Martha Dyer-Edwards)\",female,33,0,0,110152,86.5,B77,S\\r\\n761,0,3,\"Garfirth, Mr. John\",male,,0,0,358585,14.5,,S\\r\\n762,0,3,\"Nirva, Mr. Iisakki Antino Aijo\",male,41,0,0,SOTON/O2 3101272,7.125,,S\\r\\n763,1,3,\"Barah, Mr. Hanna Assi\",male,20,0,0,2663,7.2292,,C\\r\\n764,1,1,\"Carter, Mrs. William Ernest (Lucile Polk)\",female,36,1,2,113760,120,B96 B98,S\\r\\n765,0,3,\"Eklund, Mr. Hans Linus\",male,16,0,0,347074,7.775,,S\\r\\n766,1,1,\"Hogeboom, Mrs. John C (Anna Andrews)\",female,51,1,0,13502,77.9583,D11,S\\r\\n767,0,1,\"Brewe, Dr. Arthur Jackson\",male,,0,0,112379,39.6,,C\\r\\n768,0,3,\"Mangan, Miss. Mary\",female,30.5,0,0,364850,7.75,,Q\\r\\n769,0,3,\"Moran, Mr. Daniel J\",male,,1,0,371110,24.15,,Q\\r\\n770,0,3,\"Gronnestad, Mr. Daniel Danielsen\",male,32,0,0,8471,8.3625,,S\\r\\n771,0,3,\"Lievens, Mr. Rene Aime\",male,24,0,0,345781,9.5,,S\\r\\n772,0,3,\"Jensen, Mr. Niels Peder\",male,48,0,0,350047,7.8542,,S\\r\\n773,0,2,\"Mack, Mrs. (Mary)\",female,57,0,0,S.O./P.P. 3,10.5,E77,S\\r\\n774,0,3,\"Elias, Mr. Dibo\",male,,0,0,2674,7.225,,C\\r\\n775,1,2,\"Hocking, Mrs. Elizabeth (Eliza Needs)\",female,54,1,3,29105,23,,S\\r\\n776,0,3,\"Myhrman, Mr. Pehr Fabian Oliver Malkolm\",male,18,0,0,347078,7.75,,S\\r\\n777,0,3,\"Tobin, Mr. Roger\",male,,0,0,383121,7.75,F38,Q\\r\\n778,1,3,\"Emanuel, Miss. Virginia Ethel\",female,5,0,0,364516,12.475,,S\\r\\n779,0,3,\"Kilgannon, Mr. Thomas J\",male,,0,0,36865,7.7375,,Q\\r\\n780,1,1,\"Robert, Mrs. Edward Scott (Elisabeth Walton McMillan)\",female,43,0,1,24160,211.3375,B3,S\\r\\n781,1,3,\"Ayoub, Miss. Banoura\",female,13,0,0,2687,7.2292,,C\\r\\n782,1,1,\"Dick, Mrs. Albert Adrian (Vera Gillespie)\",female,17,1,0,17474,57,B20,S\\r\\n783,0,1,\"Long, Mr. Milton Clyde\",male,29,0,0,113501,30,D6,S\\r\\n784,0,3,\"Johnston, Mr. Andrew G\",male,,1,2,W./C. 6607,23.45,,S\\r\\n785,0,3,\"Ali, Mr. William\",male,25,0,0,SOTON/O.Q. 3101312,7.05,,S\\r\\n786,0,3,\"Harmer, Mr. Abraham (David Lishin)\",male,25,0,0,374887,7.25,,S\\r\\n787,1,3,\"Sjoblom, Miss. Anna Sofia\",female,18,0,0,3101265,7.4958,,S\\r\\n788,0,3,\"Rice, Master. George Hugh\",male,8,4,1,382652,29.125,,Q\\r\\n789,1,3,\"Dean, Master. Bertram Vere\",male,1,1,2,C.A. 2315,20.575,,S\\r\\n790,0,1,\"Guggenheim, Mr. Benjamin\",male,46,0,0,PC 17593,79.2,B82 B84,C\\r\\n791,0,3,\"Keane, Mr. Andrew \"\"Andy\"\"\",male,,0,0,12460,7.75,,Q\\r\\n792,0,2,\"Gaskell, Mr. Alfred\",male,16,0,0,239865,26,,S\\r\\n793,0,3,\"Sage, Miss. Stella Anna\",female,,8,2,CA. 2343,69.55,,S\\r\\n794,0,1,\"Hoyt, Mr. William Fisher\",male,,0,0,PC 17600,30.6958,,C\\r\\n795,0,3,\"Dantcheff, Mr. Ristiu\",male,25,0,0,349203,7.8958,,S\\r\\n796,0,2,\"Otter, Mr. Richard\",male,39,0,0,28213,13,,S\\r\\n797,1,1,\"Leader, Dr. Alice (Farnham)\",female,49,0,0,17465,25.9292,D17,S\\r\\n798,1,3,\"Osman, Mrs. Mara\",female,31,0,0,349244,8.6833,,S\\r\\n799,0,3,\"Ibrahim Shawah, Mr. Yousseff\",male,30,0,0,2685,7.2292,,C\\r\\n800,0,3,\"Van Impe, Mrs. Jean Baptiste (Rosalie Paula Govaert)\",female,30,1,1,345773,24.15,,S\\r\\n801,0,2,\"Ponesell, Mr. Martin\",male,34,0,0,250647,13,,S\\r\\n802,1,2,\"Collyer, Mrs. Harvey (Charlotte Annie Tate)\",female,31,1,1,C.A. 31921,26.25,,S\\r\\n803,1,1,\"Carter, Master. William Thornton II\",male,11,1,2,113760,120,B96 B98,S\\r\\n804,1,3,\"Thomas, Master. Assad Alexander\",male,0.42,0,1,2625,8.5167,,C\\r\\n805,1,3,\"Hedman, Mr. Oskar Arvid\",male,27,0,0,347089,6.975,,S\\r\\n806,0,3,\"Johansson, Mr. Karl Johan\",male,31,0,0,347063,7.775,,S\\r\\n807,0,1,\"Andrews, Mr. Thomas Jr\",male,39,0,0,112050,0,A36,S\\r\\n808,0,3,\"Pettersson, Miss. Ellen Natalia\",female,18,0,0,347087,7.775,,S\\r\\n809,0,2,\"Meyer, Mr. August\",male,39,0,0,248723,13,,S\\r\\n810,1,1,\"Chambers, Mrs. Norman Campbell (Bertha Griggs)\",female,33,1,0,113806,53.1,E8,S\\r\\n811,0,3,\"Alexander, Mr. William\",male,26,0,0,3474,7.8875,,S\\r\\n812,0,3,\"Lester, Mr. James\",male,39,0,0,A/4 48871,24.15,,S\\r\\n813,0,2,\"Slemen, Mr. Richard James\",male,35,0,0,28206,10.5,,S\\r\\n814,0,3,\"Andersson, Miss. Ebba Iris Alfrida\",female,6,4,2,347082,31.275,,S\\r\\n815,0,3,\"Tomlin, Mr. Ernest Portage\",male,30.5,0,0,364499,8.05,,S\\r\\n816,0,1,\"Fry, Mr. Richard\",male,,0,0,112058,0,B102,S\\r\\n817,0,3,\"Heininen, Miss. Wendla Maria\",female,23,0,0,STON/O2. 3101290,7.925,,S\\r\\n818,0,2,\"Mallet, Mr. Albert\",male,31,1,1,S.C./PARIS 2079,37.0042,,C\\r\\n819,0,3,\"Holm, Mr. John Fredrik Alexander\",male,43,0,0,C 7075,6.45,,S\\r\\n820,0,3,\"Skoog, Master. Karl Thorsten\",male,10,3,2,347088,27.9,,S\\r\\n821,1,1,\"Hays, Mrs. Charles Melville (Clara Jennings Gregg)\",female,52,1,1,12749,93.5,B69,S\\r\\n822,1,3,\"Lulic, Mr. Nikola\",male,27,0,0,315098,8.6625,,S\\r\\n823,0,1,\"Reuchlin, Jonkheer. John George\",male,38,0,0,19972,0,,S\\r\\n824,1,3,\"Moor, Mrs. (Beila)\",female,27,0,1,392096,12.475,E121,S\\r\\n825,0,3,\"Panula, Master. Urho Abraham\",male,2,4,1,3101295,39.6875,,S\\r\\n826,0,3,\"Flynn, Mr. John\",male,,0,0,368323,6.95,,Q\\r\\n827,0,3,\"Lam, Mr. Len\",male,,0,0,1601,56.4958,,S\\r\\n828,1,2,\"Mallet, Master. Andre\",male,1,0,2,S.C./PARIS 2079,37.0042,,C\\r\\n829,1,3,\"McCormack, Mr. Thomas Joseph\",male,,0,0,367228,7.75,,Q\\r\\n830,1,1,\"Stone, Mrs. George Nelson (Martha Evelyn)\",female,62,0,0,113572,80,B28,\\r\\n831,1,3,\"Yasbeck, Mrs. Antoni (Selini Alexander)\",female,15,1,0,2659,14.4542,,C\\r\\n832,1,2,\"Richards, Master. George Sibley\",male,0.83,1,1,29106,18.75,,S\\r\\n833,0,3,\"Saad, Mr. Amin\",male,,0,0,2671,7.2292,,C\\r\\n834,0,3,\"Augustsson, Mr. Albert\",male,23,0,0,347468,7.8542,,S\\r\\n835,0,3,\"Allum, Mr. Owen George\",male,18,0,0,2223,8.3,,S\\r\\n836,1,1,\"Compton, Miss. Sara Rebecca\",female,39,1,1,PC 17756,83.1583,E49,C\\r\\n837,0,3,\"Pasic, Mr. Jakob\",male,21,0,0,315097,8.6625,,S\\r\\n838,0,3,\"Sirota, Mr. Maurice\",male,,0,0,392092,8.05,,S\\r\\n839,1,3,\"Chip, Mr. Chang\",male,32,0,0,1601,56.4958,,S\\r\\n840,1,1,\"Marechal, Mr. Pierre\",male,,0,0,11774,29.7,C47,C\\r\\n841,0,3,\"Alhomaki, Mr. Ilmari Rudolf\",male,20,0,0,SOTON/O2 3101287,7.925,,S\\r\\n842,0,2,\"Mudd, Mr. Thomas Charles\",male,16,0,0,S.O./P.P. 3,10.5,,S\\r\\n843,1,1,\"Serepeca, Miss. Augusta\",female,30,0,0,113798,31,,C\\r\\n844,0,3,\"Lemberopolous, Mr. Peter L\",male,34.5,0,0,2683,6.4375,,C\\r\\n845,0,3,\"Culumovic, Mr. Jeso\",male,17,0,0,315090,8.6625,,S\\r\\n846,0,3,\"Abbing, Mr. Anthony\",male,42,0,0,C.A. 5547,7.55,,S\\r\\n847,0,3,\"Sage, Mr. Douglas Bullen\",male,,8,2,CA. 2343,69.55,,S\\r\\n848,0,3,\"Markoff, Mr. Marin\",male,35,0,0,349213,7.8958,,C\\r\\n849,0,2,\"Harper, Rev. John\",male,28,0,1,248727,33,,S\\r\\n850,1,1,\"Goldenberg, Mrs. Samuel L (Edwiga Grabowska)\",female,,1,0,17453,89.1042,C92,C\\r\\n851,0,3,\"Andersson, Master. Sigvard Harald Elias\",male,4,4,2,347082,31.275,,S\\r\\n852,0,3,\"Svensson, Mr. Johan\",male,74,0,0,347060,7.775,,S\\r\\n853,0,3,\"Boulos, Miss. Nourelain\",female,9,1,1,2678,15.2458,,C\\r\\n854,1,1,\"Lines, Miss. Mary Conover\",female,16,0,1,PC 17592,39.4,D28,S\\r\\n855,0,2,\"Carter, Mrs. Ernest Courtenay (Lilian Hughes)\",female,44,1,0,244252,26,,S\\r\\n856,1,3,\"Aks, Mrs. Sam (Leah Rosen)\",female,18,0,1,392091,9.35,,S\\r\\n857,1,1,\"Wick, Mrs. George Dennick (Mary Hitchcock)\",female,45,1,1,36928,164.8667,,S\\r\\n858,1,1,\"Daly, Mr. Peter Denis \",male,51,0,0,113055,26.55,E17,S\\r\\n859,1,3,\"Baclini, Mrs. Solomon (Latifa Qurban)\",female,24,0,3,2666,19.2583,,C\\r\\n860,0,3,\"Razi, Mr. Raihed\",male,,0,0,2629,7.2292,,C\\r\\n861,0,3,\"Hansen, Mr. Claus Peter\",male,41,2,0,350026,14.1083,,S\\r\\n862,0,2,\"Giles, Mr. Frederick Edward\",male,21,1,0,28134,11.5,,S\\r\\n863,1,1,\"Swift, Mrs. Frederick Joel (Margaret Welles Barron)\",female,48,0,0,17466,25.9292,D17,S\\r\\n864,0,3,\"Sage, Miss. Dorothy Edith \"\"Dolly\"\"\",female,,8,2,CA. 2343,69.55,,S\\r\\n865,0,2,\"Gill, Mr. John William\",male,24,0,0,233866,13,,S\\r\\n866,1,2,\"Bystrom, Mrs. (Karolina)\",female,42,0,0,236852,13,,S\\r\\n867,1,2,\"Duran y More, Miss. Asuncion\",female,27,1,0,SC/PARIS 2149,13.8583,,C\\r\\n868,0,1,\"Roebling, Mr. Washington Augustus II\",male,31,0,0,PC 17590,50.4958,A24,S\\r\\n869,0,3,\"van Melkebeke, Mr. Philemon\",male,,0,0,345777,9.5,,S\\r\\n870,1,3,\"Johnson, Master. Harold Theodor\",male,4,1,1,347742,11.1333,,S\\r\\n871,0,3,\"Balkic, Mr. Cerin\",male,26,0,0,349248,7.8958,,S\\r\\n872,1,1,\"Beckwith, Mrs. Richard Leonard (Sallie Monypeny)\",female,47,1,1,11751,52.5542,D35,S\\r\\n873,0,1,\"Carlsson, Mr. Frans Olof\",male,33,0,0,695,5,B51 B53 B55,S\\r\\n874,0,3,\"Vander Cruyssen, Mr. Victor\",male,47,0,0,345765,9,,S\\r\\n875,1,2,\"Abelson, Mrs. Samuel (Hannah Wizosky)\",female,28,1,0,P/PP 3381,24,,C\\r\\n876,1,3,\"Najib, Miss. Adele Kiamie \"\"Jane\"\"\",female,15,0,0,2667,7.225,,C\\r\\n877,0,3,\"Gustafsson, Mr. Alfred Ossian\",male,20,0,0,7534,9.8458,,S\\r\\n878,0,3,\"Petroff, Mr. Nedelio\",male,19,0,0,349212,7.8958,,S\\r\\n879,0,3,\"Laleff, Mr. Kristo\",male,,0,0,349217,7.8958,,S\\r\\n880,1,1,\"Potter, Mrs. Thomas Jr (Lily Alexenia Wilson)\",female,56,0,1,11767,83.1583,C50,C\\r\\n881,1,2,\"Shelley, Mrs. William (Imanita Parrish Hall)\",female,25,0,1,230433,26,,S\\r\\n882,0,3,\"Markun, Mr. Johann\",male,33,0,0,349257,7.8958,,S\\r\\n883,0,3,\"Dahlberg, Miss. Gerda Ulrika\",female,22,0,0,7552,10.5167,,S\\r\\n884,0,2,\"Banfield, Mr. Frederick James\",male,28,0,0,C.A./SOTON 34068,10.5,,S\\r\\n885,0,3,\"Sutehall, Mr. Henry Jr\",male,25,0,0,SOTON/OQ 392076,7.05,,S\\r\\n886,0,3,\"Rice, Mrs. William (Margaret Norton)\",female,39,0,5,382652,29.125,,Q\\r\\n887,0,2,\"Montvila, Rev. Juozas\",male,27,0,0,211536,13,,S\\r\\n888,1,1,\"Graham, Miss. Margaret Edith\",female,19,0,0,112053,30,B42,S\\r\\n889,0,3,\"Johnston, Miss. Catherine Helen \"\"Carrie\"\"\",female,,1,2,W./C. 6607,23.45,,S\\r\\n890,1,1,\"Behr, Mr. Karl Howell\",male,26,0,0,111369,30,C148,C\\r\\n891,0,3,\"Dooley, Mr. Patrick\",male,32,0,0,370376,7.75,,Q\\r\\n'}"
      ]
     },
     "execution_count": 2,
     "metadata": {
      "tags": []
     },
     "output_type": "execute_result"
    }
   ],
   "source": [
    "from google.colab import files\n",
    "files.upload()"
   ]
  },
  {
   "cell_type": "code",
   "execution_count": 0,
   "metadata": {
    "colab": {},
    "colab_type": "code",
    "id": "7Qmcm0q5HrRi"
   },
   "outputs": [],
   "source": [
    "import pandas as pd\n",
    "\n",
    "df=pd.read_csv('train.csv')"
   ]
  },
  {
   "cell_type": "code",
   "execution_count": 0,
   "metadata": {
    "colab": {},
    "colab_type": "code",
    "id": "eMtj5NiTIGWZ"
   },
   "outputs": [],
   "source": [
    "import matplotlib.pyplot as plt\n",
    "\n",
    "not_survived_df = pd.DataFrame({'Male':df[(df['Survived'] == 0) & (df['Sex'] == 'male')]['Pclass'].value_counts(),\n",
    "                                'Female':df[(df['Survived'] == 0) & (df['Sex'] == 'female')]['Pclass'].value_counts()})\n",
    "survived_df = pd.DataFrame({'Male':df[(df['Survived'] == 1) & (df['Sex'] == 'male')]['Pclass'].value_counts(),\n",
    "                                'Female':df[(df['Survived'] == 1) & (df['Sex'] == 'female')]['Pclass'].value_counts()})"
   ]
  },
  {
   "cell_type": "code",
   "execution_count": 0,
   "metadata": {
    "colab": {},
    "colab_type": "code",
    "id": "QaSQ29BnIJJA"
   },
   "outputs": [],
   "source": [
    "fig,axes=plt.subplots(nrows=1,ncols=2,figsize=(10,6))\n",
    "not_survived_df.plot(kind='bar',title='Not Survived',ax=axes[0],yticks=range(0,351,50))\n",
    "survived_df.plot(kind='bar',title='Survived',ax=axes[1],yticks=range(0,351,50))\n"
   ]
  },
  {
   "cell_type": "code",
   "execution_count": 5,
   "metadata": {
    "colab": {
     "base_uri": "https://localhost:8080/",
     "height": 387
    },
    "colab_type": "code",
    "executionInfo": {
     "elapsed": 1810,
     "status": "ok",
     "timestamp": 1568864080463,
     "user": {
      "displayName": "Khanatat Thangwatthanarat",
      "photoUrl": "",
      "userId": "01961641283765841814"
     },
     "user_tz": -420
    },
    "id": "rAdIFMx9ILzs",
    "outputId": "1a93d1cb-de7d-4631-bad2-2ab6364c65ca"
   },
   "outputs": [
    {
     "data": {
      "text/plain": [
       "<seaborn.axisgrid.FacetGrid at 0x7fb96f831a90>"
      ]
     },
     "execution_count": 5,
     "metadata": {
      "tags": []
     },
     "output_type": "execute_result"
    },
    {
     "data": {
      "image/png": "[encoded data removed]",
      "text/plain": [
       "<Figure size 790.5x360 with 2 Axes>"
      ]
     },
     "metadata": {
      "tags": []
     },
     "output_type": "display_data"
    }
   ],
   "source": [
    "import seaborn as sb\n",
    "\n",
    "sb.catplot(x='Pclass',hue='Sex',col='Survived',kind='count',data=df)"
   ]
  },
  {
   "cell_type": "code",
   "execution_count": 0,
   "metadata": {
    "colab": {},
    "colab_type": "code",
    "id": "CyqQFHltIOyU"
   },
   "outputs": [],
   "source": [
    "import pandas as pd\n",
    "df=pd.read_csv('Iris.csv')"
   ]
  },
  {
   "cell_type": "code",
   "execution_count": 0,
   "metadata": {
    "colab": {},
    "colab_type": "code",
    "id": "079bEg5CITEc"
   },
   "outputs": [],
   "source": [
    "df.head()"
   ]
  },
  {
   "cell_type": "code",
   "execution_count": 0,
   "metadata": {
    "colab": {},
    "colab_type": "code",
    "id": "lZ0ODRpYIWeU"
   },
   "outputs": [],
   "source": [
    "df['Species'].value_counts()"
   ]
  },
  {
   "cell_type": "code",
   "execution_count": 0,
   "metadata": {
    "colab": {},
    "colab_type": "code",
    "id": "9QjRvqjmIabr"
   },
   "outputs": [],
   "source": [
    "df.columns"
   ]
  },
  {
   "cell_type": "code",
   "execution_count": 0,
   "metadata": {
    "colab": {},
    "colab_type": "code",
    "id": "SADBaMBRIdMi"
   },
   "outputs": [],
   "source": [
    "sb.scatterplot(data=df,x='SepalLengthCm',y='SepalWidthCm',hue='Species')"
   ]
  }
 ],
 "metadata": {
  "colab": {
   "name": "Copy of Introduction to Python 2019.ipynb",
   "provenance": [
    {
     "file_id": "1B2Qcd2be322VAvhKRbAJE3OpEeGhDDGh",
     "timestamp": 1568864010230
    },
    {
     "file_id": "1yV9cCpE_xLpe662ymvzHTrg3bPyMG2Zb",
     "timestamp": 1566439277432
    }
   ]
  },
  "kernelspec": {
   "display_name": "Python 3",
   "language": "python",
   "name": "python3"
  },
  "language_info": {
   "codemirror_mode": {
    "name": "ipython",
    "version": 3
   },
   "file_extension": ".py",
   "mimetype": "text/x-python",
   "name": "python",
   "nbconvert_exporter": "python",
   "pygments_lexer": "ipython3",
   "version": "3.7.6"
  }
 },
 "nbformat": 4,
 "nbformat_minor": 1
}
